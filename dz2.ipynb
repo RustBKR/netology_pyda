{
 "cells": [
  {
   "cell_type": "code",
   "execution_count": 8,
   "metadata": {},
   "outputs": [
    {
     "name": "stdout",
     "output_type": "stream",
     "text": [
      "Введите комбинацию состоящую из 0 и 1 длиною от 3 до 1000 символов: 111001\n",
      "Переодичность равна:  6\n"
     ]
    }
   ],
   "source": [
    "# Формирование сигнала\n",
    "combination = str(input(\"Введите комбинацию состоящую из 0 и 1 длиною от 3 до 1000 символов: \"))\n",
    "length_signal = 0\n",
    "signal = combination\n",
    "while length_signal <= 2000: \n",
    "    signal = signal + combination\n",
    "    length_signal += 1\n",
    "# Код для определения периодичности\n",
    "x = 3\n",
    "y = 6\n",
    "periodicity = 0\n",
    "check_period_1 = signal[:3]\n",
    "check_period_2 = signal[4:6]\n",
    "while check_period_1 != check_period_2:\n",
    "    check_period_1 = str(signal[:x])\n",
    "    check_period_2 = str(signal[x:y])\n",
    "    x += 1\n",
    "    y = x + x\n",
    "periodicity = len(check_period_1)\n",
    "print(\"Переодичность равна: \", periodicity) \n"
   ]
  }
 ],
 "metadata": {
  "kernelspec": {
   "display_name": "Python 3",
   "language": "python",
   "name": "python3"
  },
  "language_info": {
   "codemirror_mode": {
    "name": "ipython",
    "version": 3
   },
   "file_extension": ".py",
   "mimetype": "text/x-python",
   "name": "python",
   "nbconvert_exporter": "python",
   "pygments_lexer": "ipython3",
   "version": "3.7.3"
  }
 },
 "nbformat": 4,
 "nbformat_minor": 2
}
