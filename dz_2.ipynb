{
  "nbformat": 4,
  "nbformat_minor": 0,
  "metadata": {
    "colab": {
      "name": "dz_2.ipynb",
      "provenance": [],
      "include_colab_link": true
    },
    "kernelspec": {
      "name": "python3",
      "display_name": "Python 3"
    }
  },
  "cells": [
    {
      "cell_type": "markdown",
      "metadata": {
        "id": "view-in-github",
        "colab_type": "text"
      },
      "source": [
        "<a href=\"https://colab.research.google.com/github/RustBKR/netology_pyda/blob/master/dz_2.ipynb\" target=\"_parent\"><img src=\"https://colab.research.google.com/assets/colab-badge.svg\" alt=\"Open In Colab\"/></a>"
      ]
    },
    {
      "cell_type": "markdown",
      "metadata": {
        "id": "9wqpiQR2AbtX",
        "colab_type": "text"
      },
      "source": [
        "# Виды распределений"
      ]
    },
    {
      "cell_type": "markdown",
      "metadata": {
        "id": "V3N8qycM-xP9",
        "colab_type": "text"
      },
      "source": [
        "Загрузить таблицу и построить график распределений. Найти нормальное распределение."
      ]
    },
    {
      "cell_type": "code",
      "metadata": {
        "id": "Zo_j9HCKCPgi",
        "colab_type": "code",
        "colab": {}
      },
      "source": [
        "import numpy as np\n",
        "from scipy.stats import t\n",
        "from scipy.stats import norm\n",
        "import matplotlib.pyplot as plt\n",
        "from scipy import stats\n",
        "import pandas as pd\n",
        "import io\n",
        "import requests\n",
        "import seaborn as sns\n",
        "\n",
        "%matplotlib inline"
      ],
      "execution_count": 0,
      "outputs": []
    },
    {
      "cell_type": "markdown",
      "metadata": {
        "id": "LrhPyaIACZsb",
        "colab_type": "text"
      },
      "source": [
        "Таблица цен на дома в Бостоне"
      ]
    },
    {
      "cell_type": "markdown",
      "metadata": {
        "id": "XyNNmtvIDDy3",
        "colab_type": "text"
      },
      "source": [
        "Основные значения:\n",
        "\n",
        "* CRIM: This is the per capita crime rate by town\n",
        "* ZN: This is the proportion of residential land zoned for lots larger than 25,000 sq.ft.\n",
        "* INDUS: This is the proportion of non-retail business acres per town.\n",
        "* CHAS: This is the Charles River dummy variable (this is equal to 1 if tract bounds river; 0 otherwise)\n",
        "* NOX: This is the nitric oxides concentration (parts per 10 million)\n",
        "* RM: This is the average number of rooms per dwelling\n",
        "* AGE: This is the proportion of owner-occupied units built prior to 1940\n",
        "* DIS: This is the weighted distances to five Boston employment centers\n",
        "* RAD: This is the index of accessibility to radial highways\n",
        "* TAX: This is the full-value property-tax rate per 10,000 dollars\n",
        "* PTRATIO: This is the pupil-teacher ratio by town\n",
        "* B: This is calculated as 1000(Bk — 0.63)², where Bk is the proportion of people of African American descent by town\n",
        "* LSTAT: This is the percentage lower status of the population\n",
        "* MEDV: This is the median value of owner-occupied homes in 1000 dollars"
      ]
    },
    {
      "cell_type": "code",
      "metadata": {
        "id": "Ona1gs72CZOq",
        "colab_type": "code",
        "outputId": "4aa31e33-6779-4cd0-845a-a7b2994a28b6",
        "colab": {
          "base_uri": "https://localhost:8080/",
          "height": 224
        }
      },
      "source": [
        "url='http://yustiks.ru/housing.csv'\n",
        "s=requests.get(url).content\n",
        "names = ['CRIM', 'ZN', 'INDUS', 'CHAS', 'NOX', 'RM', 'AGE', 'DIS', 'RAD', 'TAX', 'PTRATIO', 'B', 'LSTAT', 'MEDV']\n",
        "data=pd.read_csv(io.StringIO(s.decode('utf-8')),  delim_whitespace=True, names=names)\n",
        "data.head()"
      ],
      "execution_count": 2,
      "outputs": [
        {
          "output_type": "execute_result",
          "data": {
            "text/html": [
              "<div>\n",
              "<style scoped>\n",
              "    .dataframe tbody tr th:only-of-type {\n",
              "        vertical-align: middle;\n",
              "    }\n",
              "\n",
              "    .dataframe tbody tr th {\n",
              "        vertical-align: top;\n",
              "    }\n",
              "\n",
              "    .dataframe thead th {\n",
              "        text-align: right;\n",
              "    }\n",
              "</style>\n",
              "<table border=\"1\" class=\"dataframe\">\n",
              "  <thead>\n",
              "    <tr style=\"text-align: right;\">\n",
              "      <th></th>\n",
              "      <th>CRIM</th>\n",
              "      <th>ZN</th>\n",
              "      <th>INDUS</th>\n",
              "      <th>CHAS</th>\n",
              "      <th>NOX</th>\n",
              "      <th>RM</th>\n",
              "      <th>AGE</th>\n",
              "      <th>DIS</th>\n",
              "      <th>RAD</th>\n",
              "      <th>TAX</th>\n",
              "      <th>PTRATIO</th>\n",
              "      <th>B</th>\n",
              "      <th>LSTAT</th>\n",
              "      <th>MEDV</th>\n",
              "    </tr>\n",
              "  </thead>\n",
              "  <tbody>\n",
              "    <tr>\n",
              "      <th>0</th>\n",
              "      <td>0.00632</td>\n",
              "      <td>18.0</td>\n",
              "      <td>2.31</td>\n",
              "      <td>0</td>\n",
              "      <td>0.538</td>\n",
              "      <td>6.575</td>\n",
              "      <td>65.2</td>\n",
              "      <td>4.0900</td>\n",
              "      <td>1</td>\n",
              "      <td>296.0</td>\n",
              "      <td>15.3</td>\n",
              "      <td>396.90</td>\n",
              "      <td>4.98</td>\n",
              "      <td>24.0</td>\n",
              "    </tr>\n",
              "    <tr>\n",
              "      <th>1</th>\n",
              "      <td>0.02731</td>\n",
              "      <td>0.0</td>\n",
              "      <td>7.07</td>\n",
              "      <td>0</td>\n",
              "      <td>0.469</td>\n",
              "      <td>6.421</td>\n",
              "      <td>78.9</td>\n",
              "      <td>4.9671</td>\n",
              "      <td>2</td>\n",
              "      <td>242.0</td>\n",
              "      <td>17.8</td>\n",
              "      <td>396.90</td>\n",
              "      <td>9.14</td>\n",
              "      <td>21.6</td>\n",
              "    </tr>\n",
              "    <tr>\n",
              "      <th>2</th>\n",
              "      <td>0.02729</td>\n",
              "      <td>0.0</td>\n",
              "      <td>7.07</td>\n",
              "      <td>0</td>\n",
              "      <td>0.469</td>\n",
              "      <td>7.185</td>\n",
              "      <td>61.1</td>\n",
              "      <td>4.9671</td>\n",
              "      <td>2</td>\n",
              "      <td>242.0</td>\n",
              "      <td>17.8</td>\n",
              "      <td>392.83</td>\n",
              "      <td>4.03</td>\n",
              "      <td>34.7</td>\n",
              "    </tr>\n",
              "    <tr>\n",
              "      <th>3</th>\n",
              "      <td>0.03237</td>\n",
              "      <td>0.0</td>\n",
              "      <td>2.18</td>\n",
              "      <td>0</td>\n",
              "      <td>0.458</td>\n",
              "      <td>6.998</td>\n",
              "      <td>45.8</td>\n",
              "      <td>6.0622</td>\n",
              "      <td>3</td>\n",
              "      <td>222.0</td>\n",
              "      <td>18.7</td>\n",
              "      <td>394.63</td>\n",
              "      <td>2.94</td>\n",
              "      <td>33.4</td>\n",
              "    </tr>\n",
              "    <tr>\n",
              "      <th>4</th>\n",
              "      <td>0.06905</td>\n",
              "      <td>0.0</td>\n",
              "      <td>2.18</td>\n",
              "      <td>0</td>\n",
              "      <td>0.458</td>\n",
              "      <td>7.147</td>\n",
              "      <td>54.2</td>\n",
              "      <td>6.0622</td>\n",
              "      <td>3</td>\n",
              "      <td>222.0</td>\n",
              "      <td>18.7</td>\n",
              "      <td>396.90</td>\n",
              "      <td>5.33</td>\n",
              "      <td>36.2</td>\n",
              "    </tr>\n",
              "  </tbody>\n",
              "</table>\n",
              "</div>"
            ],
            "text/plain": [
              "      CRIM    ZN  INDUS  CHAS    NOX  ...    TAX  PTRATIO       B  LSTAT  MEDV\n",
              "0  0.00632  18.0   2.31     0  0.538  ...  296.0     15.3  396.90   4.98  24.0\n",
              "1  0.02731   0.0   7.07     0  0.469  ...  242.0     17.8  396.90   9.14  21.6\n",
              "2  0.02729   0.0   7.07     0  0.469  ...  242.0     17.8  392.83   4.03  34.7\n",
              "3  0.03237   0.0   2.18     0  0.458  ...  222.0     18.7  394.63   2.94  33.4\n",
              "4  0.06905   0.0   2.18     0  0.458  ...  222.0     18.7  396.90   5.33  36.2\n",
              "\n",
              "[5 rows x 14 columns]"
            ]
          },
          "metadata": {
            "tags": []
          },
          "execution_count": 2
        }
      ]
    },
    {
      "cell_type": "markdown",
      "metadata": {
        "id": "KwpYBJZiE1EO",
        "colab_type": "text"
      },
      "source": [
        "Нарисовать частотные графики для всех значений. Можете ли вы найти следующие распределения в данных графиках?\n",
        "\n",
        "\n",
        "1.   Нормальное\n",
        "2.   Равномерное\n",
        "3.   Биноминальное\n",
        "4.   Бернулли\n",
        "5.   Геометрическое\n",
        "6.   Логнормальное\n",
        "\n"
      ]
    },
    {
      "cell_type": "markdown",
      "metadata": {
        "id": "111lURJGVrbU",
        "colab_type": "text"
      },
      "source": [
        "Написать **линейную регрессию** на два атрибута. Допустим, мы хотим предсказать цену дома (MEDV) в Бостоне, зная что цена на дом имеет линейную зависимость с атрибутом LSTAT. "
      ]
    },
    {
      "cell_type": "markdown",
      "metadata": {
        "id": "Naz_Byg1WKhm",
        "colab_type": "text"
      },
      "source": [
        "\n",
        "\n",
        "1.   Разделить данные на 80% тренировочных, 20% тестовых\n",
        "2.   Составить модель линейной регрессии\n",
        "3.   Посчитать ошибку модели на тестовых данных\n",
        "4.   Сделать точечный график данных и полученной прямой линейной регрессии\n",
        "\n"
      ]
    },
    {
      "cell_type": "markdown",
      "metadata": {
        "id": "zqiJHPz7FUT2",
        "colab_type": "text"
      },
      "source": [
        "Загрузить таблицу Happiness report. Посчитать матрицу ковариаций попарно. "
      ]
    },
    {
      "cell_type": "code",
      "metadata": {
        "id": "4FVMs-hUiv4i",
        "colab_type": "code",
        "outputId": "4f8bb858-e745-4832-e05a-a40c48f8fa8a",
        "colab": {
          "base_uri": "https://localhost:8080/",
          "height": 238
        }
      },
      "source": [
        "url=\"http://yustiks.ru/dataset/world-happiness-report-2019.csv\"\n",
        "data=pd.read_csv(url)\n",
        "data.head()"
      ],
      "execution_count": 0,
      "outputs": [
        {
          "output_type": "execute_result",
          "data": {
            "text/html": [
              "<div>\n",
              "<style scoped>\n",
              "    .dataframe tbody tr th:only-of-type {\n",
              "        vertical-align: middle;\n",
              "    }\n",
              "\n",
              "    .dataframe tbody tr th {\n",
              "        vertical-align: top;\n",
              "    }\n",
              "\n",
              "    .dataframe thead th {\n",
              "        text-align: right;\n",
              "    }\n",
              "</style>\n",
              "<table border=\"1\" class=\"dataframe\">\n",
              "  <thead>\n",
              "    <tr style=\"text-align: right;\">\n",
              "      <th></th>\n",
              "      <th>Country (region)</th>\n",
              "      <th>Ladder</th>\n",
              "      <th>SD of Ladder</th>\n",
              "      <th>Positive affect</th>\n",
              "      <th>Negative affect</th>\n",
              "      <th>Social support</th>\n",
              "      <th>Freedom</th>\n",
              "      <th>Corruption</th>\n",
              "      <th>Generosity</th>\n",
              "      <th>Log of GDP\n",
              "per capita</th>\n",
              "      <th>Healthy life\n",
              "expectancy</th>\n",
              "    </tr>\n",
              "  </thead>\n",
              "  <tbody>\n",
              "    <tr>\n",
              "      <th>0</th>\n",
              "      <td>Finland</td>\n",
              "      <td>1</td>\n",
              "      <td>4</td>\n",
              "      <td>41.0</td>\n",
              "      <td>10.0</td>\n",
              "      <td>2.0</td>\n",
              "      <td>5.0</td>\n",
              "      <td>4.0</td>\n",
              "      <td>47.0</td>\n",
              "      <td>22.0</td>\n",
              "      <td>27.0</td>\n",
              "    </tr>\n",
              "    <tr>\n",
              "      <th>1</th>\n",
              "      <td>Denmark</td>\n",
              "      <td>2</td>\n",
              "      <td>13</td>\n",
              "      <td>24.0</td>\n",
              "      <td>26.0</td>\n",
              "      <td>4.0</td>\n",
              "      <td>6.0</td>\n",
              "      <td>3.0</td>\n",
              "      <td>22.0</td>\n",
              "      <td>14.0</td>\n",
              "      <td>23.0</td>\n",
              "    </tr>\n",
              "    <tr>\n",
              "      <th>2</th>\n",
              "      <td>Norway</td>\n",
              "      <td>3</td>\n",
              "      <td>8</td>\n",
              "      <td>16.0</td>\n",
              "      <td>29.0</td>\n",
              "      <td>3.0</td>\n",
              "      <td>3.0</td>\n",
              "      <td>8.0</td>\n",
              "      <td>11.0</td>\n",
              "      <td>7.0</td>\n",
              "      <td>12.0</td>\n",
              "    </tr>\n",
              "    <tr>\n",
              "      <th>3</th>\n",
              "      <td>Iceland</td>\n",
              "      <td>4</td>\n",
              "      <td>9</td>\n",
              "      <td>3.0</td>\n",
              "      <td>3.0</td>\n",
              "      <td>1.0</td>\n",
              "      <td>7.0</td>\n",
              "      <td>45.0</td>\n",
              "      <td>3.0</td>\n",
              "      <td>15.0</td>\n",
              "      <td>13.0</td>\n",
              "    </tr>\n",
              "    <tr>\n",
              "      <th>4</th>\n",
              "      <td>Netherlands</td>\n",
              "      <td>5</td>\n",
              "      <td>1</td>\n",
              "      <td>12.0</td>\n",
              "      <td>25.0</td>\n",
              "      <td>15.0</td>\n",
              "      <td>19.0</td>\n",
              "      <td>12.0</td>\n",
              "      <td>7.0</td>\n",
              "      <td>12.0</td>\n",
              "      <td>18.0</td>\n",
              "    </tr>\n",
              "  </tbody>\n",
              "</table>\n",
              "</div>"
            ],
            "text/plain": [
              "  Country (region)  Ladder  ...  Log of GDP\\nper capita  Healthy life\\nexpectancy\n",
              "0          Finland       1  ...                    22.0                      27.0\n",
              "1          Denmark       2  ...                    14.0                      23.0\n",
              "2           Norway       3  ...                     7.0                      12.0\n",
              "3          Iceland       4  ...                    15.0                      13.0\n",
              "4      Netherlands       5  ...                    12.0                      18.0\n",
              "\n",
              "[5 rows x 11 columns]"
            ]
          },
          "metadata": {
            "tags": []
          },
          "execution_count": 4
        }
      ]
    },
    {
      "cell_type": "markdown",
      "metadata": {
        "id": "AEV-w8iDrzwl",
        "colab_type": "text"
      },
      "source": [
        "Сколько в данной таблице отсутствующих значений? Написать ответ. Если есть отсутствующие значения в выборке country, убрать (drop). Написать код."
      ]
    },
    {
      "cell_type": "markdown",
      "metadata": {
        "id": "Sa3-2X8RputT",
        "colab_type": "text"
      },
      "source": [
        "Сколько стран в выборке? Написать ответ. "
      ]
    },
    {
      "cell_type": "markdown",
      "metadata": {
        "id": "rMXrO1VNWo_v",
        "colab_type": "text"
      },
      "source": [
        "Добавить новую колонку в таблицу - 'continent'. Каждая страна относится к определенному материку. Всего материко 6:\n",
        "*   Евразия,\n",
        "*   Африка,\n",
        "*   Северная Америка,\n",
        "*   Южная Америка,\n",
        "*   Австралия,\n",
        "*   Антарктида.\n",
        "\n",
        "Таким образом, мы можем классифицировать каждый элемент как член определенного класса - континента. "
      ]
    },
    {
      "cell_type": "markdown",
      "metadata": {
        "id": "kD85b-o_p268",
        "colab_type": "text"
      },
      "source": [
        "Нарисовать sns.pairplot для класса - континет. Из графика сделать вывод о том, какие континеты похожи."
      ]
    },
    {
      "cell_type": "code",
      "metadata": {
        "id": "4R6O2ERsrm6B",
        "colab_type": "code",
        "colab": {}
      },
      "source": [
        "# пример кода на точечный график по континентам\n",
        "sns.set(style=\"ticks\", color_codes=True)\n",
        "fig = sns.pairplot(data=data, hue='continent')\n",
        "plt.show()"
      ],
      "execution_count": 0,
      "outputs": []
    },
    {
      "cell_type": "markdown",
      "metadata": {
        "id": "Xo3Q738TsMBV",
        "colab_type": "text"
      },
      "source": [
        "Построить матрицу корреляций для таблицы. Какие можно сделать выводы?"
      ]
    },
    {
      "cell_type": "markdown",
      "metadata": {
        "id": "F6p2_dAHtPcs",
        "colab_type": "text"
      },
      "source": [
        "**Регрессионный анализ** - можно ли провести линейную зависимость между двумя выборками. Возьмем Ladder - удовлетворение жизнью, и generosity - доброта. Мы хотим найти прямую, которая разделит точки в пространстве наполовину. Это можно сделать графически. Нарисовать график. Можно ли сказать, что данная прямая является собственным вектором? Сделать график регрессионной прямой на данных и собственных векторов. "
      ]
    },
    {
      "cell_type": "markdown",
      "metadata": {
        "id": "bwPmjFqesXOC",
        "colab_type": "text"
      },
      "source": [
        "# Дискретное распределение случайной величины"
      ]
    },
    {
      "cell_type": "markdown",
      "metadata": {
        "id": "5xwVwFr_s11_",
        "colab_type": "text"
      },
      "source": [
        "Напишите код для моделирования 10 подбрасываний игрального кубика. Начертите диаграму histogram. Какое это распределение?"
      ]
    },
    {
      "cell_type": "code",
      "metadata": {
        "id": "3EEu6ofKs0x7",
        "colab_type": "code",
        "colab": {}
      },
      "source": [
        ""
      ],
      "execution_count": 0,
      "outputs": []
    },
    {
      "cell_type": "markdown",
      "metadata": {
        "id": "irGnJ9bxtAor",
        "colab_type": "text"
      },
      "source": [
        "моделируйте 1000 раз сумму по 100 подбрасываний. Начертите диаграму histogram. Почему график изменился? Почему можно применить центральную предельную теорему?"
      ]
    },
    {
      "cell_type": "code",
      "metadata": {
        "id": "v0It8sBStGcI",
        "colab_type": "code",
        "colab": {}
      },
      "source": [
        ""
      ],
      "execution_count": 0,
      "outputs": []
    }
  ]
}