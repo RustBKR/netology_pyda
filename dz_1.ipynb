{
  "nbformat": 4,
  "nbformat_minor": 0,
  "metadata": {
    "colab": {
      "name": "dz_1.ipynb",
      "provenance": [],
      "include_colab_link": true
    },
    "kernelspec": {
      "name": "python3",
      "display_name": "Python 3"
    }
  },
  "cells": [
    {
      "cell_type": "markdown",
      "metadata": {
        "id": "view-in-github",
        "colab_type": "text"
      },
      "source": [
        "<a href=\"https://colab.research.google.com/github/RustBKR/netology_pyda/blob/master/dz_1.ipynb\" target=\"_parent\"><img src=\"https://colab.research.google.com/assets/colab-badge.svg\" alt=\"Open In Colab\"/></a>"
      ]
    },
    {
      "cell_type": "markdown",
      "metadata": {
        "id": "QVI-7gzMl70f",
        "colab_type": "text"
      },
      "source": [
        "# Домашнее задание по статистическому анализу на python"
      ]
    },
    {
      "cell_type": "code",
      "metadata": {
        "id": "4IGVqb7KvSxe",
        "colab_type": "code",
        "colab": {}
      },
      "source": [
        "import pandas as pd\n",
        "import numpy as np\n",
        "import matplotlib.pyplot as plt\n",
        "import scipy.stats as sts\n",
        "%matplotlib inline\n",
        "import statistics"
      ],
      "execution_count": 0,
      "outputs": []
    },
    {
      "cell_type": "markdown",
      "metadata": {
        "id": "cCvZIO1Kh7vZ",
        "colab_type": "text"
      },
      "source": [
        "Загрузить датасет по url:\n"
      ]
    },
    {
      "cell_type": "code",
      "metadata": {
        "id": "csAWXiRvh_YM",
        "colab_type": "code",
        "colab": {}
      },
      "source": [
        "url=\"http://yustiks.ru/dataset/world-happiness-report-2019.csv\"\n",
        "df=pd.read_csv(url)"
      ],
      "execution_count": 0,
      "outputs": []
    },
    {
      "cell_type": "markdown",
      "metadata": {
        "id": "HtcpKepV8XDi",
        "colab_type": "text"
      },
      "source": [
        "Более подробно о датасете можно прочитать по [данной ссылке](https://data.world/promptcloud/world-happiness-report-2019) или по [ссылке в kaggle](https://www.kaggle.com/PromptCloudHQ/world-happiness-report-2019)"
      ]
    },
    {
      "cell_type": "markdown",
      "metadata": {
        "id": "UN13GCGcijj_",
        "colab_type": "text"
      },
      "source": [
        "Context\n",
        "\n",
        "The World Happiness Report is a landmark survey of the state of global happiness that ranks 156 countries by how happy their citizens perceive themselves to be. This year’s World Happiness Report focuses on happiness and the community: how happiness has evolved over the past dozen years, with a focus on the technologies, social norms, conflicts and government policies that have driven those changes.\n"
      ]
    },
    {
      "cell_type": "markdown",
      "metadata": {
        "id": "2NSXs9iSi0dU",
        "colab_type": "text"
      },
      "source": [
        "\n",
        "*  **Country (region)** Name of the country.\n",
        "*  **Ladder** Cantril Ladder is a measure of life satisfaction.\n",
        "*  **SD of Ladder** Standard deviation of the ladder.\n",
        "*  **Positive affect** Measure of positive emotion.\n",
        "*  **Negative affect** Measure of negative emotion.\n",
        "*  **Social support** The extent to which Social support contributed to the calculation of the Happiness Score.\n",
        "*  **Freedom** The extent to which Freedom contributed to the calculation of the Happiness Score.\n",
        "*  **Corruption** The extent to which Perception of Corruption contributes to Happiness Score.\n",
        "*  **Generosity** The extent to which Generosity contributed to the calculation of the Happiness Score.\n",
        "*  **Log of GDP per capita** The extent to which GDP contributes to the calculation of the Happiness Score.\n",
        "*  **Healthy life expectancy** The extent to which Life expectancy contributed to the calculation of the Happiness Score."
      ]
    },
    {
      "cell_type": "markdown",
      "metadata": {
        "id": "23plwhw1j0ba",
        "colab_type": "text"
      },
      "source": [
        "Посмотреть первые несколько рядов таблицы"
      ]
    },
    {
      "cell_type": "code",
      "metadata": {
        "id": "QCIq_bWfj7IG",
        "colab_type": "code",
        "colab": {}
      },
      "source": [
        ""
      ],
      "execution_count": 0,
      "outputs": []
    },
    {
      "cell_type": "markdown",
      "metadata": {
        "id": "XCFa8CtdjrqJ",
        "colab_type": "text"
      },
      "source": [
        "Построить частотный график для двух параметров: Freedom и positive affect. Какое это распределение?"
      ]
    },
    {
      "cell_type": "code",
      "metadata": {
        "id": "Ia4zd3G2kUEI",
        "colab_type": "code",
        "colab": {}
      },
      "source": [
        ""
      ],
      "execution_count": 0,
      "outputs": []
    },
    {
      "cell_type": "markdown",
      "metadata": {
        "id": "nBwpKop7j8HH",
        "colab_type": "text"
      },
      "source": [
        "Найти медиану, моду, математическое ожидание, стандартное отклонение,  дисперсию, минимум и максимум, найти выбросы (если есть), размах для колонки Freedom"
      ]
    },
    {
      "cell_type": "code",
      "metadata": {
        "id": "yjqwOGyskPXw",
        "colab_type": "code",
        "colab": {}
      },
      "source": [
        ""
      ],
      "execution_count": 0,
      "outputs": []
    },
    {
      "cell_type": "markdown",
      "metadata": {
        "id": "9pkdmtzkA3aH",
        "colab_type": "text"
      },
      "source": [
        "Почему нельзя найти моду?"
      ]
    },
    {
      "cell_type": "code",
      "metadata": {
        "id": "dWmqZe7XA6Sx",
        "colab_type": "code",
        "colab": {}
      },
      "source": [
        ""
      ],
      "execution_count": 0,
      "outputs": []
    },
    {
      "cell_type": "markdown",
      "metadata": {
        "id": "U-7gpfzukf9l",
        "colab_type": "text"
      },
      "source": [
        "Посмотреть корреляцию между Freedom и positive affect (графически и математически). Графически - plt.scatter, математически - посчитать коэффициент Пирсона. О чем говорит знак коэффициента?"
      ]
    },
    {
      "cell_type": "code",
      "metadata": {
        "id": "mHKzz4H_kmto",
        "colab_type": "code",
        "colab": {}
      },
      "source": [
        ""
      ],
      "execution_count": 0,
      "outputs": []
    },
    {
      "cell_type": "markdown",
      "metadata": {
        "id": "D6nsF28EksAu",
        "colab_type": "text"
      },
      "source": [
        "Нормализовать данные колонки Freedom (централизация + масштабирование)"
      ]
    },
    {
      "cell_type": "code",
      "metadata": {
        "id": "-OxSDHuXkywQ",
        "colab_type": "code",
        "colab": {}
      },
      "source": [
        ""
      ],
      "execution_count": 0,
      "outputs": []
    },
    {
      "cell_type": "markdown",
      "metadata": {
        "id": "4eOPS6fpkzKO",
        "colab_type": "text"
      },
      "source": [
        "Построить матрицу корреляций для всех колонок таблицы"
      ]
    },
    {
      "cell_type": "code",
      "metadata": {
        "id": "M4eCTmwtlCzY",
        "colab_type": "code",
        "colab": {}
      },
      "source": [
        ""
      ],
      "execution_count": 0,
      "outputs": []
    },
    {
      "cell_type": "markdown",
      "metadata": {
        "id": "tpgJoUop_rtU",
        "colab_type": "text"
      },
      "source": [
        "В данном датасете некоторые атрибуты значительно коррелируют. Какие? Почему?"
      ]
    },
    {
      "cell_type": "code",
      "metadata": {
        "id": "UrMPBYIj_2N6",
        "colab_type": "code",
        "colab": {}
      },
      "source": [
        ""
      ],
      "execution_count": 0,
      "outputs": []
    },
    {
      "cell_type": "markdown",
      "metadata": {
        "id": "RAbZRTRG2Ci0",
        "colab_type": "text"
      },
      "source": [
        "Загрузить таблицу цен на авокадо: "
      ]
    },
    {
      "cell_type": "code",
      "metadata": {
        "id": "gmgMOe_e2H-_",
        "colab_type": "code",
        "outputId": "660725cd-b466-4ee4-f374-6f0d94c589ef",
        "colab": {
          "base_uri": "https://localhost:8080/",
          "height": 210
        }
      },
      "source": [
        "import io\n",
        "import requests\n",
        "url=\"http://yustiks.ru/avocado.csv\"\n",
        "df=pd.read_csv(url)\n",
        "df[:3]"
      ],
      "execution_count": 0,
      "outputs": [
        {
          "output_type": "execute_result",
          "data": {
            "text/html": [
              "<div>\n",
              "<style scoped>\n",
              "    .dataframe tbody tr th:only-of-type {\n",
              "        vertical-align: middle;\n",
              "    }\n",
              "\n",
              "    .dataframe tbody tr th {\n",
              "        vertical-align: top;\n",
              "    }\n",
              "\n",
              "    .dataframe thead th {\n",
              "        text-align: right;\n",
              "    }\n",
              "</style>\n",
              "<table border=\"1\" class=\"dataframe\">\n",
              "  <thead>\n",
              "    <tr style=\"text-align: right;\">\n",
              "      <th></th>\n",
              "      <th>Unnamed: 0</th>\n",
              "      <th>Date</th>\n",
              "      <th>AveragePrice</th>\n",
              "      <th>Total Volume</th>\n",
              "      <th>4046</th>\n",
              "      <th>4225</th>\n",
              "      <th>4770</th>\n",
              "      <th>Total Bags</th>\n",
              "      <th>Small Bags</th>\n",
              "      <th>Large Bags</th>\n",
              "      <th>XLarge Bags</th>\n",
              "      <th>type</th>\n",
              "      <th>year</th>\n",
              "      <th>region</th>\n",
              "    </tr>\n",
              "  </thead>\n",
              "  <tbody>\n",
              "    <tr>\n",
              "      <th>0</th>\n",
              "      <td>0</td>\n",
              "      <td>2015-12-27</td>\n",
              "      <td>1.33</td>\n",
              "      <td>64236.62</td>\n",
              "      <td>1036.74</td>\n",
              "      <td>54454.85</td>\n",
              "      <td>48.16</td>\n",
              "      <td>8696.87</td>\n",
              "      <td>8603.62</td>\n",
              "      <td>93.25</td>\n",
              "      <td>0.0</td>\n",
              "      <td>conventional</td>\n",
              "      <td>2015</td>\n",
              "      <td>Albany</td>\n",
              "    </tr>\n",
              "    <tr>\n",
              "      <th>1</th>\n",
              "      <td>1</td>\n",
              "      <td>2015-12-20</td>\n",
              "      <td>1.35</td>\n",
              "      <td>54876.98</td>\n",
              "      <td>674.28</td>\n",
              "      <td>44638.81</td>\n",
              "      <td>58.33</td>\n",
              "      <td>9505.56</td>\n",
              "      <td>9408.07</td>\n",
              "      <td>97.49</td>\n",
              "      <td>0.0</td>\n",
              "      <td>conventional</td>\n",
              "      <td>2015</td>\n",
              "      <td>Albany</td>\n",
              "    </tr>\n",
              "    <tr>\n",
              "      <th>2</th>\n",
              "      <td>2</td>\n",
              "      <td>2015-12-13</td>\n",
              "      <td>0.93</td>\n",
              "      <td>118220.22</td>\n",
              "      <td>794.70</td>\n",
              "      <td>109149.67</td>\n",
              "      <td>130.50</td>\n",
              "      <td>8145.35</td>\n",
              "      <td>8042.21</td>\n",
              "      <td>103.14</td>\n",
              "      <td>0.0</td>\n",
              "      <td>conventional</td>\n",
              "      <td>2015</td>\n",
              "      <td>Albany</td>\n",
              "    </tr>\n",
              "  </tbody>\n",
              "</table>\n",
              "</div>"
            ],
            "text/plain": [
              "   Unnamed: 0        Date  AveragePrice  Total Volume     4046       4225  \\\n",
              "0           0  2015-12-27          1.33      64236.62  1036.74   54454.85   \n",
              "1           1  2015-12-20          1.35      54876.98   674.28   44638.81   \n",
              "2           2  2015-12-13          0.93     118220.22   794.70  109149.67   \n",
              "\n",
              "     4770  Total Bags  Small Bags  Large Bags  XLarge Bags          type  \\\n",
              "0   48.16     8696.87     8603.62       93.25          0.0  conventional   \n",
              "1   58.33     9505.56     9408.07       97.49          0.0  conventional   \n",
              "2  130.50     8145.35     8042.21      103.14          0.0  conventional   \n",
              "\n",
              "   year  region  \n",
              "0  2015  Albany  \n",
              "1  2015  Albany  \n",
              "2  2015  Albany  "
            ]
          },
          "metadata": {
            "tags": []
          },
          "execution_count": 9
        }
      ]
    },
    {
      "cell_type": "markdown",
      "metadata": {
        "id": "QmBGvAQKlkwq",
        "colab_type": "text"
      },
      "source": [
        "Сделать частотный график колонки AveragePrice. Какое это распределение?"
      ]
    },
    {
      "cell_type": "code",
      "metadata": {
        "id": "Und8GJxWlqIy",
        "colab_type": "code",
        "colab": {}
      },
      "source": [
        ""
      ],
      "execution_count": 0,
      "outputs": []
    },
    {
      "cell_type": "markdown",
      "metadata": {
        "id": "mCi-XdIAlrD4",
        "colab_type": "text"
      },
      "source": [
        "Найти корреляцию в следующих колонках:"
      ]
    },
    {
      "cell_type": "markdown",
      "metadata": {
        "id": "zR3V0X_T1_4Y",
        "colab_type": "text"
      },
      "source": [
        "колонкой 4046, 4225, 4770 и Average Price. Если корелляция есть (обратная или прямая), то какие выводы можно сделать?"
      ]
    },
    {
      "cell_type": "code",
      "metadata": {
        "id": "RkPfhTovlvtk",
        "colab_type": "code",
        "colab": {}
      },
      "source": [
        ""
      ],
      "execution_count": 0,
      "outputs": []
    },
    {
      "cell_type": "markdown",
      "metadata": {
        "id": "k9Zphd6H9CyS",
        "colab_type": "text"
      },
      "source": [
        "Написать временные предсказания цен на авокадо типа organic для выбранного региона: LasVegas, начиная с августа 2017 года до конца марта 2018. В качестве тренировочных данных использовать данные до июля 2017 года включительно.\n",
        "В качестве примера использовать лекционный материал в lecture_1.ipynb"
      ]
    },
    {
      "cell_type": "code",
      "metadata": {
        "id": "mkr59P0v96pd",
        "colab_type": "code",
        "colab": {}
      },
      "source": [
        ""
      ],
      "execution_count": 0,
      "outputs": []
    }
  ]
}