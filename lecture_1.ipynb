{
  "nbformat": 4,
  "nbformat_minor": 0,
  "metadata": {
    "colab": {
      "name": "lecture-1.ipynb",
      "provenance": [],
      "include_colab_link": true
    },
    "kernelspec": {
      "display_name": "Python 3",
      "language": "python",
      "name": "python3"
    }
  },
  "cells": [
    {
      "cell_type": "markdown",
      "metadata": {
        "id": "view-in-github",
        "colab_type": "text"
      },
      "source": [
        "<a href=\"https://colab.research.google.com/github/RustBKR/netology_pyda/blob/master/lecture_1.ipynb\" target=\"_parent\"><img src=\"https://colab.research.google.com/assets/colab-badge.svg\" alt=\"Open In Colab\"/></a>"
      ]
    },
    {
      "cell_type": "code",
      "metadata": {
        "id": "uQ_wV-PDIIPy",
        "colab_type": "code",
        "colab": {}
      },
      "source": [
        "import pandas as pd\n",
        "import numpy as np\n",
        "import matplotlib.pyplot as plt\n",
        "import scipy.stats as sts\n",
        "%matplotlib inline\n",
        "import statistics"
      ],
      "execution_count": 0,
      "outputs": []
    },
    {
      "cell_type": "markdown",
      "metadata": {
        "id": "YAR-DsCuMr9G",
        "colab_type": "text"
      },
      "source": [
        "# Основные понятия статистики\n",
        "\n"
      ]
    },
    {
      "cell_type": "markdown",
      "metadata": {
        "id": "vBw6YdadPSKo",
        "colab_type": "text"
      },
      "source": [
        "Возьмем данные о фильмах с контентом на английском языке. "
      ]
    },
    {
      "cell_type": "code",
      "metadata": {
        "id": "gRn0ijGZMwA9",
        "colab_type": "code",
        "colab": {}
      },
      "source": [
        "url=\"http://yustiks.ru/dataset/FilmTV_dataset.csv\"\n",
        "df=pd.read_csv(url)"
      ],
      "execution_count": 0,
      "outputs": []
    },
    {
      "cell_type": "markdown",
      "metadata": {
        "id": "FIicq4TJPi2C",
        "colab_type": "text"
      },
      "source": [
        "*   **filmtv_ID** FilmTV ID\n",
        "*   **film_title** Movie Title\n",
        "*   **year** Year of Release\n",
        "*   **genre** Movie Genre\n",
        "*   **duration** Movie Duration\n",
        "*   **country** Movie Country\n",
        "*   **director** Movie Director\n",
        "*   **actors** Movie Actors\n",
        "*   **avg_vote** Movie Average Vote\n",
        "*   **votes** Movie Number of Votes\n"
      ]
    },
    {
      "cell_type": "markdown",
      "metadata": {
        "id": "dgqe3OYPQboc",
        "colab_type": "text"
      },
      "source": [
        "Посмотрим основные колонки из таблицы"
      ]
    },
    {
      "cell_type": "code",
      "metadata": {
        "id": "ney7duVrQQyX",
        "colab_type": "code",
        "outputId": "4624aa2b-e87f-4d4e-df23-c0f500a71654",
        "colab": {
          "base_uri": "https://localhost:8080/",
          "height": 527
        }
      },
      "source": [
        "df.head()"
      ],
      "execution_count": 0,
      "outputs": [
        {
          "output_type": "execute_result",
          "data": {
            "text/html": [
              "<div>\n",
              "<style scoped>\n",
              "    .dataframe tbody tr th:only-of-type {\n",
              "        vertical-align: middle;\n",
              "    }\n",
              "\n",
              "    .dataframe tbody tr th {\n",
              "        vertical-align: top;\n",
              "    }\n",
              "\n",
              "    .dataframe thead th {\n",
              "        text-align: right;\n",
              "    }\n",
              "</style>\n",
              "<table border=\"1\" class=\"dataframe\">\n",
              "  <thead>\n",
              "    <tr style=\"text-align: right;\">\n",
              "      <th></th>\n",
              "      <th>filmtv_ID</th>\n",
              "      <th>film_title</th>\n",
              "      <th>year</th>\n",
              "      <th>genre</th>\n",
              "      <th>duration</th>\n",
              "      <th>country</th>\n",
              "      <th>director</th>\n",
              "      <th>actors</th>\n",
              "      <th>avg_vote</th>\n",
              "      <th>votes</th>\n",
              "    </tr>\n",
              "  </thead>\n",
              "  <tbody>\n",
              "    <tr>\n",
              "      <th>0</th>\n",
              "      <td>2</td>\n",
              "      <td>Bugs Bunny's Third Movie: 1001 Rabbit Tales</td>\n",
              "      <td>1982</td>\n",
              "      <td>Animation</td>\n",
              "      <td>76</td>\n",
              "      <td>United States</td>\n",
              "      <td>David Detiege, Art Davis, Bill Perez</td>\n",
              "      <td>NaN</td>\n",
              "      <td>7.7</td>\n",
              "      <td>28</td>\n",
              "    </tr>\n",
              "    <tr>\n",
              "      <th>1</th>\n",
              "      <td>3</td>\n",
              "      <td>18 anni tra una settimana</td>\n",
              "      <td>1991</td>\n",
              "      <td>Drama</td>\n",
              "      <td>98</td>\n",
              "      <td>Italy</td>\n",
              "      <td>Luigi Perelli</td>\n",
              "      <td>Kim Rossi Stuart, Simona Cavallari, Ennio Fant...</td>\n",
              "      <td>7.0</td>\n",
              "      <td>3</td>\n",
              "    </tr>\n",
              "    <tr>\n",
              "      <th>2</th>\n",
              "      <td>17</td>\n",
              "      <td>Ride a Wild Pony</td>\n",
              "      <td>1976</td>\n",
              "      <td>Romantic</td>\n",
              "      <td>91</td>\n",
              "      <td>United States</td>\n",
              "      <td>Don Chaffey</td>\n",
              "      <td>Michael Craig, John Meillon, Eva Griffith, Gra...</td>\n",
              "      <td>5.6</td>\n",
              "      <td>10</td>\n",
              "    </tr>\n",
              "    <tr>\n",
              "      <th>3</th>\n",
              "      <td>18</td>\n",
              "      <td>Diner</td>\n",
              "      <td>1982</td>\n",
              "      <td>Comedy</td>\n",
              "      <td>95</td>\n",
              "      <td>United States</td>\n",
              "      <td>Barry Levinson</td>\n",
              "      <td>Mickey Rourke, Steve Guttenberg, Ellen Barkin</td>\n",
              "      <td>7.1</td>\n",
              "      <td>14</td>\n",
              "    </tr>\n",
              "    <tr>\n",
              "      <th>4</th>\n",
              "      <td>20</td>\n",
              "      <td>A che servono questi quattrini?</td>\n",
              "      <td>1942</td>\n",
              "      <td>Comedy</td>\n",
              "      <td>85</td>\n",
              "      <td>Italy</td>\n",
              "      <td>Esodo Pratelli</td>\n",
              "      <td>Eduardo De Filippo, Peppino De Filippo, Clelia...</td>\n",
              "      <td>5.9</td>\n",
              "      <td>12</td>\n",
              "    </tr>\n",
              "  </tbody>\n",
              "</table>\n",
              "</div>"
            ],
            "text/plain": [
              "   filmtv_ID                                   film_title  ...  avg_vote votes\n",
              "0          2  Bugs Bunny's Third Movie: 1001 Rabbit Tales  ...       7.7    28\n",
              "1          3                    18 anni tra una settimana  ...       7.0     3\n",
              "2         17                             Ride a Wild Pony  ...       5.6    10\n",
              "3         18                                        Diner  ...       7.1    14\n",
              "4         20              A che servono questi quattrini?  ...       5.9    12\n",
              "\n",
              "[5 rows x 10 columns]"
            ]
          },
          "metadata": {
            "tags": []
          },
          "execution_count": 7
        }
      ]
    },
    {
      "cell_type": "markdown",
      "metadata": {
        "id": "nOpaN0kvTC8-",
        "colab_type": "text"
      },
      "source": [
        "# Математические ожидание и среднее значение"
      ]
    },
    {
      "cell_type": "markdown",
      "metadata": {
        "id": "BfQV1EO9jL_D",
        "colab_type": "text"
      },
      "source": [
        "**Выборка** - некоторая случайная величина. В данном контексте возьмем duration - сколько идет фильм в секундах. Вторую выборку возьмём как avg_vote.\n",
        "Построим точечный график двух выборок."
      ]
    },
    {
      "cell_type": "code",
      "metadata": {
        "id": "0TrP0CrFjKMx",
        "colab_type": "code",
        "outputId": "2723b4ec-ff11-41b9-b759-f70cefad4b38",
        "colab": {
          "base_uri": "https://localhost:8080/",
          "height": 281
        }
      },
      "source": [
        "duration = df['duration']\n",
        "votes = df['votes']\n",
        "fig, ax = plt.subplots()\n",
        "ax.scatter(duration, votes, c='red', alpha=0.3, edgecolors='none')\n",
        "\n",
        "ax.grid(True)\n",
        "plt.xlabel('duration')\n",
        "plt.ylabel('votes')\n",
        "plt.show()"
      ],
      "execution_count": 0,
      "outputs": [
        {
          "output_type": "display_data",
          "data": {
            "image/png": "[encoded data removed]",
            "text/plain": [
              "<Figure size 432x288 with 1 Axes>"
            ]
          },
          "metadata": {
            "tags": []
          }
        }
      ]
    },
    {
      "cell_type": "markdown",
      "metadata": {
        "id": "yyEVdWbOkrlj",
        "colab_type": "text"
      },
      "source": [
        "Рассмотрим выборку duration - сколько длится фильм по времени."
      ]
    },
    {
      "cell_type": "markdown",
      "metadata": {
        "id": "iVKr2LAKGI44",
        "colab_type": "text"
      },
      "source": [
        "Складываем все значения выборки и делим на количество элементов в выборке"
      ]
    },
    {
      "cell_type": "code",
      "metadata": {
        "id": "lmsV-ZzdQB_a",
        "colab_type": "code",
        "outputId": "0f02531b-95c3-4591-86d4-699b2470a402",
        "colab": {
          "base_uri": "https://localhost:8080/",
          "height": 34
        }
      },
      "source": [
        "statistics.mean(df['duration'])"
      ],
      "execution_count": 0,
      "outputs": [
        {
          "output_type": "execute_result",
          "data": {
            "text/plain": [
              "99.12066686564619"
            ]
          },
          "metadata": {
            "tags": []
          },
          "execution_count": 48
        }
      ]
    },
    {
      "cell_type": "code",
      "metadata": {
        "id": "rzGeATSAS-_R",
        "colab_type": "code",
        "outputId": "05f3a599-9173-47c2-c8e1-56eb0978b78e",
        "colab": {
          "base_uri": "https://localhost:8080/",
          "height": 34
        }
      },
      "source": [
        "sum(df['duration'])/len(df['duration'])"
      ],
      "execution_count": 0,
      "outputs": [
        {
          "output_type": "execute_result",
          "data": {
            "text/plain": [
              "99.12066686564619"
            ]
          },
          "metadata": {
            "tags": []
          },
          "execution_count": 49
        }
      ]
    },
    {
      "cell_type": "markdown",
      "metadata": {
        "id": "L5hMF6wHF59S",
        "colab_type": "text"
      },
      "source": [
        "# Медиана"
      ]
    },
    {
      "cell_type": "markdown",
      "metadata": {
        "id": "_cHJ0h1aQvm5",
        "colab_type": "text"
      },
      "source": [
        "Возьмем колонку Duration - продолжительность фильма - и посчитаем медиану. **Медиана** - это такое значение, что ровно половина выборки меньше него, а ровно половина - больше. "
      ]
    },
    {
      "cell_type": "markdown",
      "metadata": {
        "id": "XPOdqSa7Gppk",
        "colab_type": "text"
      },
      "source": [
        "1ый способ:"
      ]
    },
    {
      "cell_type": "code",
      "metadata": {
        "id": "DC2LXb8vTfE7",
        "colab_type": "code",
        "outputId": "4cd1d7bf-954e-4e7c-9963-d88d8cb4e194",
        "colab": {
          "base_uri": "https://localhost:8080/",
          "height": 34
        }
      },
      "source": [
        "# Извлекаем duration \n",
        "duration = df['duration']\n",
        "\n",
        "# Находим их количество\n",
        "num_duration = len(duration)\n",
        "\n",
        "# Сортируем в порядке возрастания\n",
        "sorted_duration = sorted(duration)\n",
        "\n",
        "# Ищем индекс среднего элемента\n",
        "# если количество элементов четное, то берем среднее двух элементов в середине\n",
        "middle = (num_duration // 2)\n",
        "if num_duration%2==0:\n",
        "  result = (sorted_duration[middle-1] + sorted_duration[middle])/2\n",
        "else:\n",
        "  result = sorted_duration[middle]\n",
        "# Находим медиану\n",
        "print('Медиана: ', result)"
      ],
      "execution_count": 0,
      "outputs": [
        {
          "output_type": "stream",
          "text": [
            "Медиана:  95.0\n"
          ],
          "name": "stdout"
        }
      ]
    },
    {
      "cell_type": "code",
      "metadata": {
        "id": "tvyJwLeeTSwu",
        "colab_type": "code",
        "outputId": "b9e95c0a-8988-4e86-d7f3-a63f67502cf4",
        "colab": {
          "base_uri": "https://localhost:8080/",
          "height": 34
        }
      },
      "source": [
        "len(sorted_duration)"
      ],
      "execution_count": 0,
      "outputs": [
        {
          "output_type": "execute_result",
          "data": {
            "text/plain": [
              "46906"
            ]
          },
          "metadata": {
            "tags": []
          },
          "execution_count": 51
        }
      ]
    },
    {
      "cell_type": "markdown",
      "metadata": {
        "id": "oGWGPGniG4Ri",
        "colab_type": "text"
      },
      "source": [
        "2ой способ:"
      ]
    },
    {
      "cell_type": "code",
      "metadata": {
        "id": "0uaz9T_VSqo9",
        "colab_type": "code",
        "outputId": "747f1b0d-f5bc-401b-b1fc-768aa7b7202d",
        "colab": {
          "base_uri": "https://localhost:8080/",
          "height": 34
        }
      },
      "source": [
        "import statistics\n",
        "print('Медиана: ', statistics.median(df['duration']))"
      ],
      "execution_count": 0,
      "outputs": [
        {
          "output_type": "stream",
          "text": [
            "Медиана:  95.0\n"
          ],
          "name": "stdout"
        }
      ]
    },
    {
      "cell_type": "markdown",
      "metadata": {
        "id": "qdiM-4KTTPs6",
        "colab_type": "text"
      },
      "source": [
        "# Мода"
      ]
    },
    {
      "cell_type": "markdown",
      "metadata": {
        "id": "2KTU0bZfGCUK",
        "colab_type": "text"
      },
      "source": [
        "Мода - значение, которое наиболее часто встречается в выборке"
      ]
    },
    {
      "cell_type": "code",
      "metadata": {
        "id": "XPGGb12LTRVM",
        "colab_type": "code",
        "outputId": "6bb2365b-5682-40e7-a90f-e6c5da2843e5",
        "colab": {
          "base_uri": "https://localhost:8080/",
          "height": 34
        }
      },
      "source": [
        "# Создаём пустой словарь, в котором будем считать количество появлений значений продолжительности фильма\n",
        "duration_counts = {}\n",
        "for p in duration:\n",
        "    if p not in duration_counts:\n",
        "        duration_counts[p] = 1\n",
        "    else:\n",
        "        duration_counts[p] += 1\n",
        "\n",
        "# Проходимся по словарю и ищем максимальное количество повторений\n",
        "# Алгоритм поиска максимума\n",
        "maxp = 0\n",
        "mode_duration = None\n",
        "for k, v in duration_counts.items():\n",
        "    if maxp < v:\n",
        "        maxp = v\n",
        "        mode_duration = k\n",
        "print('Значение моды: ', mode_duration, 'Количество встречаемости: ', maxp)\n"
      ],
      "execution_count": 0,
      "outputs": [
        {
          "output_type": "stream",
          "text": [
            "Значение моды:  90 Количество встречаемости:  5511\n"
          ],
          "name": "stdout"
        }
      ]
    },
    {
      "cell_type": "code",
      "metadata": {
        "id": "HdZVYbzMUtPN",
        "colab_type": "code",
        "outputId": "0d05c7f5-0fd0-492c-aa56-579443d6c53d",
        "colab": {
          "base_uri": "https://localhost:8080/",
          "height": 34
        }
      },
      "source": [
        "print('Значение моды: ', statistics.mode(duration))"
      ],
      "execution_count": 0,
      "outputs": [
        {
          "output_type": "stream",
          "text": [
            "Значение моды:  90\n"
          ],
          "name": "stdout"
        }
      ]
    },
    {
      "cell_type": "markdown",
      "metadata": {
        "id": "pRiYnAwVVPYe",
        "colab_type": "text"
      },
      "source": [
        "# Минимум и максимум"
      ]
    },
    {
      "cell_type": "code",
      "metadata": {
        "id": "eWoVIZvjVSWm",
        "colab_type": "code",
        "outputId": "9228deda-a147-404f-8dd3-1acfd50e725c",
        "colab": {
          "base_uri": "https://localhost:8080/",
          "height": 34
        }
      },
      "source": [
        "min(duration)"
      ],
      "execution_count": 0,
      "outputs": [
        {
          "output_type": "execute_result",
          "data": {
            "text/plain": [
              "40"
            ]
          },
          "metadata": {
            "tags": []
          },
          "execution_count": 23
        }
      ]
    },
    {
      "cell_type": "code",
      "metadata": {
        "id": "tJ-8XfmBVU7n",
        "colab_type": "code",
        "outputId": "ebccf4d4-70f8-4572-8dda-6c4ba1340dba",
        "colab": {
          "base_uri": "https://localhost:8080/",
          "height": 34
        }
      },
      "source": [
        "max(duration)"
      ],
      "execution_count": 0,
      "outputs": [
        {
          "output_type": "execute_result",
          "data": {
            "text/plain": [
              "5280"
            ]
          },
          "metadata": {
            "tags": []
          },
          "execution_count": 24
        }
      ]
    },
    {
      "cell_type": "markdown",
      "metadata": {
        "id": "UXN_1OYSGG2Q",
        "colab_type": "text"
      },
      "source": [
        "# Выбросы"
      ]
    },
    {
      "cell_type": "markdown",
      "metadata": {
        "id": "hKS4YwmXJfnv",
        "colab_type": "text"
      },
      "source": [
        "В табличных данных выбросы - либо переменной нет в таблице, либо значение слишком варьируется от среднего значения выборки."
      ]
    },
    {
      "cell_type": "markdown",
      "metadata": {
        "id": "AP3hy0ZhVdDY",
        "colab_type": "text"
      },
      "source": [
        "**Выбросы** - отсутствующих значений в данной колонке нет"
      ]
    },
    {
      "cell_type": "code",
      "metadata": {
        "id": "aoJwHJpQVeiA",
        "colab_type": "code",
        "outputId": "e1b629fc-4870-4e0f-9aad-e7159faa7740",
        "colab": {
          "base_uri": "https://localhost:8080/",
          "height": 34
        }
      },
      "source": [
        "duration.isnull().sum()"
      ],
      "execution_count": 0,
      "outputs": [
        {
          "output_type": "execute_result",
          "data": {
            "text/plain": [
              "0"
            ]
          },
          "metadata": {
            "tags": []
          },
          "execution_count": 25
        }
      ]
    },
    {
      "cell_type": "code",
      "metadata": {
        "id": "EgeWA_kAppRJ",
        "colab_type": "code",
        "outputId": "a4bf7b2d-1283-45fc-8e6c-65dc17fceac0",
        "colab": {
          "base_uri": "https://localhost:8080/",
          "height": 279
        }
      },
      "source": [
        "duration = df['duration']\n",
        "year = df['year']\n",
        "fig, ax = plt.subplots()\n",
        "ax.scatter(duration, year, c='red', alpha=0.3, edgecolors='none')\n",
        "\n",
        "ax.grid(True)\n",
        "plt.xlabel('duration')\n",
        "plt.ylabel('year')\n",
        "plt.show()"
      ],
      "execution_count": 0,
      "outputs": [
        {
          "output_type": "display_data",
          "data": {
            "image/png": "[encoded data removed]",
            "text/plain": [
              "<Figure size 432x288 with 1 Axes>"
            ]
          },
          "metadata": {
            "tags": []
          }
        }
      ]
    },
    {
      "cell_type": "markdown",
      "metadata": {
        "id": "LhtxETenlMD8",
        "colab_type": "text"
      },
      "source": [
        "По графику можно увидеть, что есть некое значение, выходящее за рамки всех остальных значений. Найдем его."
      ]
    },
    {
      "cell_type": "code",
      "metadata": {
        "id": "ln-VOGfDlWph",
        "colab_type": "code",
        "outputId": "6a9c1c1c-48b7-415a-d438-f4a66275f7a9",
        "colab": {
          "base_uri": "https://localhost:8080/",
          "height": 170
        }
      },
      "source": [
        "duration[duration>600]"
      ],
      "execution_count": 0,
      "outputs": [
        {
          "output_type": "execute_result",
          "data": {
            "text/plain": [
              "23844     924\n",
              "23845    1525\n",
              "23846     729\n",
              "24019     680\n",
              "27462    1470\n",
              "39271     713\n",
              "41240    1200\n",
              "42871     705\n",
              "Name: duration, dtype: int64"
            ]
          },
          "metadata": {
            "tags": []
          },
          "execution_count": 61
        }
      ]
    },
    {
      "cell_type": "markdown",
      "metadata": {
        "id": "Oqh0xPpflhc1",
        "colab_type": "text"
      },
      "source": [
        "Удалим эти значения, считая их выбросами."
      ]
    },
    {
      "cell_type": "code",
      "metadata": {
        "id": "PKue57NEllr1",
        "colab_type": "code",
        "outputId": "0100c723-c346-4d1a-9d92-ce9fd928b655",
        "colab": {
          "base_uri": "https://localhost:8080/",
          "height": 279
        }
      },
      "source": [
        "duration_new = duration[duration<600]\n",
        "year_new = year[duration<600]\n",
        "\n",
        "fig, ax = plt.subplots()\n",
        "ax.scatter(duration_new, year_new, c='red', alpha=0.3, edgecolors='none')\n",
        "\n",
        "ax.grid(True)\n",
        "plt.xlabel('duration')\n",
        "plt.ylabel('year')\n",
        "plt.show()"
      ],
      "execution_count": 0,
      "outputs": [
        {
          "output_type": "display_data",
          "data": {
            "image/png": "[encoded data removed]",
            "text/plain": [
              "<Figure size 432x288 with 1 Axes>"
            ]
          },
          "metadata": {
            "tags": []
          }
        }
      ]
    },
    {
      "cell_type": "markdown",
      "metadata": {
        "id": "QJVyoEvcmITE",
        "colab_type": "text"
      },
      "source": [
        "Можно заметить, что картина стала более ясная после удаления выбросов."
      ]
    },
    {
      "cell_type": "markdown",
      "metadata": {
        "id": "SSXBzVCwWYmg",
        "colab_type": "text"
      },
      "source": [
        "Есть отсутствующие значения в колонке actors"
      ]
    },
    {
      "cell_type": "code",
      "metadata": {
        "id": "HpzbtsXQWffw",
        "colab_type": "code",
        "outputId": "eecac68a-2a2e-4774-af59-097fd9b1443b",
        "colab": {
          "base_uri": "https://localhost:8080/",
          "height": 34
        }
      },
      "source": [
        "df['actors'].isnull().sum()"
      ],
      "execution_count": 0,
      "outputs": [
        {
          "output_type": "execute_result",
          "data": {
            "text/plain": [
              "129"
            ]
          },
          "metadata": {
            "tags": []
          },
          "execution_count": 68
        }
      ]
    },
    {
      "cell_type": "markdown",
      "metadata": {
        "id": "9Y239gfqVaL-",
        "colab_type": "text"
      },
      "source": [
        "# Стандартное отклонение"
      ]
    },
    {
      "cell_type": "markdown",
      "metadata": {
        "id": "PDYjypiwJWKB",
        "colab_type": "text"
      },
      "source": [
        "Мера разброса данных (насколько данные варьируются от среднего значения) - корень среднего квадратичного отклонения."
      ]
    },
    {
      "cell_type": "markdown",
      "metadata": {
        "id": "H3TMcs74KqoV",
        "colab_type": "text"
      },
      "source": [
        "1ой метод:"
      ]
    },
    {
      "cell_type": "code",
      "metadata": {
        "id": "KbJrfmd7faCm",
        "colab_type": "code",
        "outputId": "11e3ca24-3a51-4e92-d468-3929ed326410",
        "colab": {
          "base_uri": "https://localhost:8080/",
          "height": 34
        }
      },
      "source": [
        "statistics.pstdev(duration)"
      ],
      "execution_count": 0,
      "outputs": [
        {
          "output_type": "execute_result",
          "data": {
            "text/plain": [
              "34.95860443683266"
            ]
          },
          "metadata": {
            "tags": []
          },
          "execution_count": 32
        }
      ]
    },
    {
      "cell_type": "markdown",
      "metadata": {
        "id": "38eEjUYaKuf5",
        "colab_type": "text"
      },
      "source": [
        "2ой метод:"
      ]
    },
    {
      "cell_type": "code",
      "metadata": {
        "id": "J0qTV1YmgBCd",
        "colab_type": "code",
        "outputId": "de701a1f-6e8e-4408-add2-8a3fd66c428f",
        "colab": {
          "base_uri": "https://localhost:8080/",
          "height": 34
        }
      },
      "source": [
        "def stdev(nums):\n",
        "    diffs = 0\n",
        "    avg = sum(nums)/len(nums)\n",
        "    for n in nums:\n",
        "        diffs += (n - avg)**(2)\n",
        "    return (diffs/(len(nums)-1))**(0.5)\n",
        "\n",
        "print(stdev(duration))"
      ],
      "execution_count": 0,
      "outputs": [
        {
          "output_type": "stream",
          "text": [
            "34.9589770801773\n"
          ],
          "name": "stdout"
        }
      ]
    },
    {
      "cell_type": "markdown",
      "metadata": {
        "id": "6MsGMUEeGLnX",
        "colab_type": "text"
      },
      "source": [
        "# Дисперсия"
      ]
    },
    {
      "cell_type": "markdown",
      "metadata": {
        "id": "9dV15Q5Ag60o",
        "colab_type": "text"
      },
      "source": [
        "Дисперсия - квадрат стандартного отклонения"
      ]
    },
    {
      "cell_type": "code",
      "metadata": {
        "id": "addZ1sLdghk5",
        "colab_type": "code",
        "outputId": "c1ebeaa9-836f-4659-9dd5-7480a8ce9e77",
        "colab": {
          "base_uri": "https://localhost:8080/",
          "height": 34
        }
      },
      "source": [
        "statistics.pvariance(duration)"
      ],
      "execution_count": 0,
      "outputs": [
        {
          "output_type": "execute_result",
          "data": {
            "text/plain": [
              "1222.1040241709359"
            ]
          },
          "metadata": {
            "tags": []
          },
          "execution_count": 34
        }
      ]
    },
    {
      "cell_type": "code",
      "metadata": {
        "id": "VChDIQP_VjKq",
        "colab_type": "code",
        "outputId": "80be2603-cb96-4b16-a271-f63dc9bb2be8",
        "colab": {
          "base_uri": "https://localhost:8080/",
          "height": 34
        }
      },
      "source": [
        "34.9589770801773**2"
      ],
      "execution_count": 0,
      "outputs": [
        {
          "output_type": "execute_result",
          "data": {
            "text/plain": [
              "1222.1300784923617"
            ]
          },
          "metadata": {
            "tags": []
          },
          "execution_count": 35
        }
      ]
    },
    {
      "cell_type": "markdown",
      "metadata": {
        "id": "4racI4iNfnfV",
        "colab_type": "text"
      },
      "source": [
        "# Размах"
      ]
    },
    {
      "cell_type": "markdown",
      "metadata": {
        "id": "mGaQm1fLK98x",
        "colab_type": "text"
      },
      "source": [
        "Разница между минимальным и максимальным значениями"
      ]
    },
    {
      "cell_type": "code",
      "metadata": {
        "id": "tBwHhAu4fo5p",
        "colab_type": "code",
        "outputId": "335bd2c7-53dd-4c55-ecc6-682d8209f3e5",
        "colab": {
          "base_uri": "https://localhost:8080/",
          "height": 34
        }
      },
      "source": [
        "duration_range = max(duration) - min(duration)\n",
        "print(duration_range)"
      ],
      "execution_count": 0,
      "outputs": [
        {
          "output_type": "stream",
          "text": [
            "5240\n"
          ],
          "name": "stdout"
        }
      ]
    },
    {
      "cell_type": "markdown",
      "metadata": {
        "id": "xa-9aSq7okAb",
        "colab_type": "text"
      },
      "source": [
        "Можно посмотреть разброс фильмов по их продолжительности."
      ]
    },
    {
      "cell_type": "code",
      "metadata": {
        "id": "s0-scQcWVwEp",
        "colab_type": "code",
        "outputId": "48265a89-c822-4f38-e8ac-61882796ee30",
        "colab": {
          "base_uri": "https://localhost:8080/",
          "height": 295
        }
      },
      "source": [
        "x = [i for i in range(0, len(duration)-1)]\n",
        "y = df.loc[df['duration'] < 5000, 'duration']\n",
        "\n",
        "plt.xlabel('номер фильма')\n",
        "plt.ylabel('длительность')\n",
        "plt.title('Точечный график зависимости двух выборок x и y')\n",
        "plt.grid(True)\n",
        "plt.scatter(x, y, marker='.')\n",
        "plt.show()"
      ],
      "execution_count": 0,
      "outputs": [
        {
          "output_type": "display_data",
          "data": {
            "image/png": "[encoded data removed]",
            "text/plain": [
              "<Figure size 432x288 with 1 Axes>"
            ]
          },
          "metadata": {
            "tags": []
          }
        }
      ]
    },
    {
      "cell_type": "markdown",
      "metadata": {
        "id": "qFZHcwxWoNkY",
        "colab_type": "text"
      },
      "source": [
        "Фильм, продолжительность которого составляет более 5000 секунд:"
      ]
    },
    {
      "cell_type": "code",
      "metadata": {
        "id": "zoKoFrE7WJwr",
        "colab_type": "code",
        "outputId": "f06e1542-94ce-47b7-fb1d-aa18ac3ad638",
        "colab": {
          "base_uri": "https://localhost:8080/",
          "height": 131
        }
      },
      "source": [
        "df.loc[df['duration'] > 5000, :]"
      ],
      "execution_count": 0,
      "outputs": [
        {
          "output_type": "execute_result",
          "data": {
            "text/html": [
              "<div>\n",
              "<style scoped>\n",
              "    .dataframe tbody tr th:only-of-type {\n",
              "        vertical-align: middle;\n",
              "    }\n",
              "\n",
              "    .dataframe tbody tr th {\n",
              "        vertical-align: top;\n",
              "    }\n",
              "\n",
              "    .dataframe thead th {\n",
              "        text-align: right;\n",
              "    }\n",
              "</style>\n",
              "<table border=\"1\" class=\"dataframe\">\n",
              "  <thead>\n",
              "    <tr style=\"text-align: right;\">\n",
              "      <th></th>\n",
              "      <th>filmtv_ID</th>\n",
              "      <th>film_title</th>\n",
              "      <th>year</th>\n",
              "      <th>genre</th>\n",
              "      <th>duration</th>\n",
              "      <th>country</th>\n",
              "      <th>director</th>\n",
              "      <th>actors</th>\n",
              "      <th>avg_vote</th>\n",
              "      <th>votes</th>\n",
              "    </tr>\n",
              "  </thead>\n",
              "  <tbody>\n",
              "    <tr>\n",
              "      <th>27639</th>\n",
              "      <td>35647</td>\n",
              "      <td>Farscape</td>\n",
              "      <td>1999</td>\n",
              "      <td>Adventure</td>\n",
              "      <td>5280</td>\n",
              "      <td>United States</td>\n",
              "      <td>Geoff Bennett, Tony Tilse, Ian Watson</td>\n",
              "      <td>Ben Browder, Virginia Hey, Wayne Pigram, Claud...</td>\n",
              "      <td>8.0</td>\n",
              "      <td>1</td>\n",
              "    </tr>\n",
              "  </tbody>\n",
              "</table>\n",
              "</div>"
            ],
            "text/plain": [
              "       filmtv_ID film_title  ...  avg_vote votes\n",
              "27639      35647   Farscape  ...       8.0     1\n",
              "\n",
              "[1 rows x 10 columns]"
            ]
          },
          "metadata": {
            "tags": []
          },
          "execution_count": 40
        }
      ]
    },
    {
      "cell_type": "markdown",
      "metadata": {
        "id": "6g6XCLFtobAL",
        "colab_type": "text"
      },
      "source": [
        "Оказывается, что \"Farscape\" - австралийско-американский фантастический телевизионный сериал. Всего в данном сериале 90 серий. "
      ]
    },
    {
      "cell_type": "markdown",
      "metadata": {
        "id": "g5QIcm7UHDX5",
        "colab_type": "text"
      },
      "source": [
        "# Коррелляция"
      ]
    },
    {
      "cell_type": "markdown",
      "metadata": {
        "id": "nnoXnqBSHJ2D",
        "colab_type": "text"
      },
      "source": [
        "Взаимосвязь двух выборок друг от друга. Чтобы графически увидеть взаимосвязь двух переменных, необходимо построить точечный график зависимости друг от друга. Например, возьмер 2 параметра - duration и votes. Зависит ли средняя оценка фильма от того, насколько долго он идет?"
      ]
    },
    {
      "cell_type": "code",
      "metadata": {
        "id": "ON7YUAomHeyJ",
        "colab_type": "code",
        "outputId": "19d1eb90-f48e-4b5e-f1b7-88cbe034dec7",
        "colab": {
          "base_uri": "https://localhost:8080/",
          "height": 312
        }
      },
      "source": [
        "duration = df['duration']\n",
        "avg_vote = df['avg_vote']\n",
        "plt.xlabel('выборка duration')\n",
        "plt.ylabel('выборка avg_vote')\n",
        "plt.title('Точечный график зависимости двух выборок x и y')\n",
        "plt.grid(True)\n",
        "plt.scatter(duration, avg_vote, marker='.')"
      ],
      "execution_count": 0,
      "outputs": [
        {
          "output_type": "execute_result",
          "data": {
            "text/plain": [
              "<matplotlib.collections.PathCollection at 0x7f839edd58d0>"
            ]
          },
          "metadata": {
            "tags": []
          },
          "execution_count": 43
        },
        {
          "output_type": "display_data",
          "data": {
            "image/png": "[encoded data removed]",
            "text/plain": [
              "<Figure size 432x288 with 1 Axes>"
            ]
          },
          "metadata": {
            "tags": []
          }
        }
      ]
    },
    {
      "cell_type": "markdown",
      "metadata": {
        "id": "OknprCp8qUAd",
        "colab_type": "text"
      },
      "source": [
        "Удалим фильм под номером 35647 - сериал \"Farscape\", так как он явно является нестандартом для данной выборки. "
      ]
    },
    {
      "cell_type": "code",
      "metadata": {
        "id": "uX3hkrY_ZGDU",
        "colab_type": "code",
        "colab": {}
      },
      "source": [
        "df = df.loc[df['filmtv_ID']!=35647, :]"
      ],
      "execution_count": 0,
      "outputs": []
    },
    {
      "cell_type": "code",
      "metadata": {
        "id": "-DT8xl8Tqh-v",
        "colab_type": "code",
        "outputId": "bdfa23d1-1f8c-4260-cdbe-f1aa72751856",
        "colab": {
          "base_uri": "https://localhost:8080/",
          "height": 312
        }
      },
      "source": [
        "duration = df['duration']\n",
        "avg_vote = df['avg_vote']\n",
        "plt.xlabel('выборка duration')\n",
        "plt.ylabel('выборка avg_vote')\n",
        "plt.title('Точечный график зависимости двух выборок x и y')\n",
        "plt.grid(True)\n",
        "plt.scatter(duration, avg_vote, marker='.')"
      ],
      "execution_count": 0,
      "outputs": [
        {
          "output_type": "execute_result",
          "data": {
            "text/plain": [
              "<matplotlib.collections.PathCollection at 0x7f839f07df60>"
            ]
          },
          "metadata": {
            "tags": []
          },
          "execution_count": 71
        },
        {
          "output_type": "display_data",
          "data": {
            "image/png": "[encoded data removed]",
            "text/plain": [
              "<Figure size 432x288 with 1 Axes>"
            ]
          },
          "metadata": {
            "tags": []
          }
        }
      ]
    },
    {
      "cell_type": "markdown",
      "metadata": {
        "id": "dZwl1uXNqq62",
        "colab_type": "text"
      },
      "source": [
        "**Выводы по графику** - чем длиннее фильм, тем выше у данного фильма оценка."
      ]
    },
    {
      "cell_type": "markdown",
      "metadata": {
        "id": "Irh86ByjImfy",
        "colab_type": "text"
      },
      "source": [
        "По данному графику можно заметить, что чем короткие фильмы имеют разные оценки - как низкие, так и высокие. Фильмы средней и большой длины имеют тенденция получать высокие оценки. Таким образом, между двумя выборками мы можем увидеть сильную коррелляцию."
      ]
    },
    {
      "cell_type": "markdown",
      "metadata": {
        "id": "Aj8Ak22okre7",
        "colab_type": "text"
      },
      "source": [
        "# Нормальное распределение"
      ]
    },
    {
      "cell_type": "markdown",
      "metadata": {
        "id": "TLmupVvL2Vjk",
        "colab_type": "text"
      },
      "source": [
        "**Посмотрим как выглядит нормальное распределение на практике**. Возьмем табличное значение avg_vote - среднее значение голосов за данный фильм. Посмотрим график распределения данной величины."
      ]
    },
    {
      "cell_type": "code",
      "metadata": {
        "id": "Pc_IEf7c2ad2",
        "colab_type": "code",
        "outputId": "c3960f17-84d1-44ee-9635-d648fd8011f2",
        "colab": {
          "base_uri": "https://localhost:8080/",
          "height": 282
        }
      },
      "source": [
        "len_column = len(df['avg_vote']) # сколько значений в колонке\n",
        "# генерируем значения от 0 до len_column \n",
        "x = np.linspace(0, len_column, len_column)\n",
        "plt.scatter(x, df['avg_vote'], marker='.')"
      ],
      "execution_count": 0,
      "outputs": [
        {
          "output_type": "execute_result",
          "data": {
            "text/plain": [
              "<matplotlib.collections.PathCollection at 0x7f839ee3a3c8>"
            ]
          },
          "metadata": {
            "tags": []
          },
          "execution_count": 72
        },
        {
          "output_type": "display_data",
          "data": {
            "image/png": "[encoded data removed]",
            "text/plain": [
              "<Figure size 432x288 with 1 Axes>"
            ]
          },
          "metadata": {
            "tags": []
          }
        }
      ]
    },
    {
      "cell_type": "markdown",
      "metadata": {
        "id": "r4nBOf1h4O1W",
        "colab_type": "text"
      },
      "source": [
        "По такому графику сложно понять, какое это распределение. Построим частотный график значений. "
      ]
    },
    {
      "cell_type": "code",
      "metadata": {
        "id": "HJI8Ku504VDv",
        "colab_type": "code",
        "outputId": "f729f7a4-9131-4642-f5fe-5cbdce85fd97",
        "colab": {
          "base_uri": "https://localhost:8080/",
          "height": 295
        }
      },
      "source": [
        "# plt.hist - строит частотный график выборки, разбивая значения выборки на равные интервалы\n",
        "n, bins, patches = plt.hist(df['avg_vote'], 10, facecolor='g')\n",
        "\n",
        "plt.xlabel('frequency')\n",
        "plt.ylabel('avg_vote')\n",
        "plt.title('Частотный график avg_vote (разбиение интервала по 10 элементов)')\n",
        "plt.grid(True)\n",
        "plt.show()"
      ],
      "execution_count": 0,
      "outputs": [
        {
          "output_type": "display_data",
          "data": {
            "image/png": "[encoded data removed]",
            "text/plain": [
              "<Figure size 432x288 with 1 Axes>"
            ]
          },
          "metadata": {
            "tags": []
          }
        }
      ]
    },
    {
      "cell_type": "markdown",
      "metadata": {
        "id": "2Qwy5kXk5ZNE",
        "colab_type": "text"
      },
      "source": [
        "Частотный график схож с нормальным распределением с некоторыми отклонениями. Мы можем поменять количество разбиений наших значений с 10 на 100:"
      ]
    },
    {
      "cell_type": "code",
      "metadata": {
        "id": "ErZp6rg16mYK",
        "colab_type": "code",
        "outputId": "43488e1e-c379-46fa-9990-349d0c1eaa79",
        "colab": {
          "base_uri": "https://localhost:8080/",
          "height": 295
        }
      },
      "source": [
        "n, bins, patches = plt.hist(df['avg_vote'], 500, facecolor='g')\n",
        "\n",
        "plt.xlabel('frequency')\n",
        "plt.ylabel('avg_vote')\n",
        "plt.title('Частотный график avg_vote (разбиение интервала по 100 элементов)')\n",
        "plt.grid(True)\n",
        "plt.show()"
      ],
      "execution_count": 0,
      "outputs": [
        {
          "output_type": "display_data",
          "data": {
            "image/png": "[encoded data removed]",
            "text/plain": [
              "<Figure size 432x288 with 1 Axes>"
            ]
          },
          "metadata": {
            "tags": []
          }
        }
      ]
    },
    {
      "cell_type": "markdown",
      "metadata": {
        "id": "b8eQNtZH6pul",
        "colab_type": "text"
      },
      "source": [
        "Можно заметить, что у фильмов больше всего оценок 6 (всего таких фильмов со средней оценкой 6 более 7000)"
      ]
    },
    {
      "cell_type": "markdown",
      "metadata": {
        "id": "KRnyXmca2DXX",
        "colab_type": "text"
      },
      "source": [
        "**Зададим нормальное распределение теоритически.**"
      ]
    },
    {
      "cell_type": "markdown",
      "metadata": {
        "id": "NurYf-P7IIP8",
        "colab_type": "text"
      },
      "source": [
        "Зададим 2 выборки с нормальным распределением и построим точечный график зависимости двух переменных друг от друга.\n",
        "Параметр ```loc``` задаёт $\\mu$ или среднее значение, ```scale``` — среднеквадратичное отклонение $\\sigma$, ```size``` — размер выборки. Имя параметра ```size``` при вызове функции ```rvs``` можно не писать.\n"
      ]
    },
    {
      "cell_type": "code",
      "metadata": {
        "id": "4PEaut0MIIP2",
        "colab_type": "code",
        "outputId": "1ae646da-0ac8-467a-f503-ed2c533f1550",
        "colab": {
          "base_uri": "https://localhost:8080/",
          "height": 312
        }
      },
      "source": [
        "mu1 = 90\n",
        "sigma1 = 10\n",
        "\n",
        "mu2 = 10 \n",
        "sigma2 = 5\n",
        "\n",
        "amount = 1000\n",
        "\n",
        "# зададим 2 нормально распределенные случайные величины\n",
        "norm_rv1 = sts.norm(loc=mu1, scale=sigma1)\n",
        "norm_rv2 = sts.norm(loc=mu2, scale=sigma2)\n",
        "\n",
        "# сгенерируем 1000 значений\n",
        "x = norm_rv1.rvs(size=amount)\n",
        "y = norm_rv2.rvs(size=amount)\n",
        "\n",
        "# построим точечный график зависимости двух переменных\n",
        "\n",
        "plt.xlabel('выборка x')\n",
        "plt.ylabel('выборка y')\n",
        "plt.title('Точечный график зависимости двух выборок x и y')\n",
        "plt.grid(True)\n",
        "plt.scatter(x, y, marker='.')"
      ],
      "execution_count": 0,
      "outputs": [
        {
          "output_type": "execute_result",
          "data": {
            "text/plain": [
              "<matplotlib.collections.PathCollection at 0x7f839f385400>"
            ]
          },
          "metadata": {
            "tags": []
          },
          "execution_count": 78
        },
        {
          "output_type": "display_data",
          "data": {
            "image/png": "[encoded data removed]",
            "text/plain": [
              "<Figure size 432x288 with 1 Axes>"
            ]
          },
          "metadata": {
            "tags": []
          }
        }
      ]
    },
    {
      "cell_type": "markdown",
      "metadata": {
        "id": "YdUOXiVuMJwA",
        "colab_type": "text"
      },
      "source": [
        "Частотный график выборки y  (или график плотности вероятности)."
      ]
    },
    {
      "cell_type": "code",
      "metadata": {
        "id": "F39tEj1hL0dm",
        "colab_type": "code",
        "outputId": "1e518b93-357b-4fcc-85e9-37be58ff9b4a",
        "colab": {
          "base_uri": "https://localhost:8080/",
          "height": 295
        }
      },
      "source": [
        "plt.hist(y,100)\n",
        "plt.xlabel('интервал выборки')\n",
        "plt.ylabel('количество элементов')\n",
        "plt.title('Частотный график выборки y')\n",
        "plt.grid(True)\n",
        "plt.show()"
      ],
      "execution_count": 0,
      "outputs": [
        {
          "output_type": "display_data",
          "data": {
            "image/png": "[encoded data removed]",
            "text/plain": [
              "<Figure size 432x288 with 1 Axes>"
            ]
          },
          "metadata": {
            "tags": []
          }
        }
      ]
    },
    {
      "cell_type": "markdown",
      "metadata": {
        "id": "Yv2Y54KLi8b8",
        "colab_type": "text"
      },
      "source": [
        "2-ой способ теоритической генерации нормального распределения: модуль random. "
      ]
    },
    {
      "cell_type": "code",
      "metadata": {
        "id": "1ZDvSVyMjC4G",
        "colab_type": "code",
        "outputId": "2ab112d4-1b9a-494e-9e58-1f0c8ba15cbf",
        "colab": {
          "base_uri": "https://localhost:8080/",
          "height": 295
        }
      },
      "source": [
        "mu, sigma = 0, 0.1 # среднее значение и дисперсия\n",
        "s = np.random.normal(mu, sigma, 1000)\n",
        "\n",
        "count, bins, ignored = plt.hist(s, 30, density=True)\n",
        "# bins - разбиение интервала\n",
        "# формула плотности распределения Гаусса\n",
        "plt.plot(bins, 1/(sigma * np.sqrt(2 * np.pi)) *\n",
        "               np.exp( - (bins - mu)**2 / (2 * sigma**2) ), \n",
        "         linewidth=2, color='r')\n",
        "plt.xlabel('интервал выборки')\n",
        "plt.ylabel('количество элементов')\n",
        "plt.title('Частотный график выборки сгенерированной теоритически методом №2')\n",
        "plt.grid(True)\n",
        "plt.show()"
      ],
      "execution_count": 0,
      "outputs": [
        {
          "output_type": "display_data",
          "data": {
            "image/png": "[encoded data removed]",
            "text/plain": [
              "<Figure size 432x288 with 1 Axes>"
            ]
          },
          "metadata": {
            "tags": []
          }
        }
      ]
    },
    {
      "cell_type": "markdown",
      "metadata": {
        "id": "3dVlvTJvIIQG",
        "colab_type": "text"
      },
      "source": [
        "А так можно вычислить значение функции плотности вероятности нормального распределения в заданной точке:"
      ]
    },
    {
      "cell_type": "code",
      "metadata": {
        "id": "7gUcgJHRIIQH",
        "colab_type": "code",
        "outputId": "e8f68b18-ab75-4539-ba9b-364553139b7d",
        "colab": {
          "base_uri": "https://localhost:8080/",
          "height": 34
        }
      },
      "source": [
        "norm_rv1.pdf(3)"
      ],
      "execution_count": 0,
      "outputs": [
        {
          "output_type": "execute_result",
          "data": {
            "text/plain": [
              "1.4622963575006582e-18"
            ]
          },
          "metadata": {
            "tags": []
          },
          "execution_count": 81
        }
      ]
    },
    {
      "cell_type": "markdown",
      "metadata": {
        "id": "k3G-NNtQIIQN",
        "colab_type": "text"
      },
      "source": [
        "Построим графики функции плотности вероятности от различных выборок (с разными параметрами):"
      ]
    },
    {
      "cell_type": "code",
      "metadata": {
        "id": "uxKZEuFvIIQO",
        "colab_type": "code",
        "outputId": "b9e814c3-99f8-4919-a6d7-617f864d1b4a",
        "colab": {
          "base_uri": "https://localhost:8080/",
          "height": 513
        }
      },
      "source": [
        "# зададим нормально распределенную случайную величину для нескольких выборок\n",
        "norm_rv = sts.norm(loc=2, scale=0.5)\n",
        "norm_rv2 = sts.norm(2, 0.1)\n",
        "norm_rv3 = sts.norm(2, 2)\n",
        "norm_rv4 = sts.norm(1, 1)\n",
        "\n",
        "# зададим вектор x от 0 до 4 с шагом 100 для отрисовки результата\n",
        "x = np.linspace(0,4,100) \n",
        "pdf = norm_rv.pdf(x)\n",
        "pdf2 = norm_rv2.pdf(x)\n",
        "pdf3 = norm_rv3.pdf(x)\n",
        "pdf4 = norm_rv4.pdf(x)\n",
        "plt.figure(figsize=(10,8))\n",
        "plt.plot(x, pdf)\n",
        "plt.plot(x, pdf3)\n",
        "plt.plot(x, pdf4)\n",
        "\n",
        "plt.legend(['среднее 2: дисперсия 0.5',  'среднее 2: дисперсия 2', 'среднее 1: дисперсия 1'])\n",
        "plt.ylabel('$f(x)$')\n",
        "plt.xlabel('$x$')\n",
        "plt.title('Плотности вероятности нескольких выборок')\n",
        "plt.grid(True)"
      ],
      "execution_count": 0,
      "outputs": [
        {
          "output_type": "display_data",
          "data": {
            "image/png": "[encoded data removed]",
            "text/plain": [
              "<Figure size 720x576 with 1 Axes>"
            ]
          },
          "metadata": {
            "tags": []
          }
        }
      ]
    },
    {
      "cell_type": "markdown",
      "metadata": {
        "id": "RHDRQwOGIIQS",
        "colab_type": "text"
      },
      "source": [
        "# Равномерное распределение на отрезке"
      ]
    },
    {
      "cell_type": "markdown",
      "metadata": {
        "id": "fIDeV_TtA3Qj",
        "colab_type": "text"
      },
      "source": [
        "Равномерное распределение на практике - это числа идущие последовательно от 0 до целого числа N. В равномерной выборке каждый элемент встречается одинаковое число раз."
      ]
    },
    {
      "cell_type": "code",
      "metadata": {
        "id": "bwD38X3QD86c",
        "colab_type": "code",
        "outputId": "ac2befa3-d07b-43d3-c2c9-ca6ecf2797a8",
        "colab": {
          "base_uri": "https://localhost:8080/",
          "height": 295
        }
      },
      "source": [
        "x = np.linspace(0, 100, 100)\n",
        "\n",
        "plt.ylabel('Количество элементов в данном интервале')\n",
        "plt.xlabel('Интервал значений')\n",
        "plt.title('Плотность распределения равномерной выборки')\n",
        "plt.hist(x, 50)\n",
        "plt.show()"
      ],
      "execution_count": 0,
      "outputs": [
        {
          "output_type": "display_data",
          "data": {
            "image/png": "[encoded data removed]",
            "text/plain": [
              "<Figure size 432x288 with 1 Axes>"
            ]
          },
          "metadata": {
            "tags": []
          }
        }
      ]
    },
    {
      "cell_type": "markdown",
      "metadata": {
        "id": "lurOD0--IIQT",
        "colab_type": "text"
      },
      "source": [
        "Сгенерируем теоритически выборку из случайной величины, имеющей равномерное распределение на отрезке $[a,b]$:"
      ]
    },
    {
      "cell_type": "code",
      "metadata": {
        "id": "82q5Z_Q9IIQU",
        "colab_type": "code",
        "outputId": "70ca17be-4fce-450e-f0a1-15dbb38aa4a1",
        "colab": {
          "base_uri": "https://localhost:8080/",
          "height": 312
        }
      },
      "source": [
        "a = 1\n",
        "b = 4\n",
        "\n",
        "# обратите внимание, что в этой функции задается левая граница и масштаб, а не левая и правая границы:\n",
        "uniform_rv = sts.uniform(a, b-a)\n",
        "\n",
        "# сгенерируем вектор x для отрисовки значения в pyplot.plot()\n",
        "x = np.linspace(0, 5, 100)\n",
        "pdf = uniform_rv.pdf(x)\n",
        "\n",
        "plt.ylabel('y')\n",
        "plt.xlabel('$x$')\n",
        "plt.title('Плотности вероятности нескольких выборок')\n",
        "plt.plot(x, pdf)"
      ],
      "execution_count": 0,
      "outputs": [
        {
          "output_type": "execute_result",
          "data": {
            "text/plain": [
              "[<matplotlib.lines.Line2D at 0x7f839ecea240>]"
            ]
          },
          "metadata": {
            "tags": []
          },
          "execution_count": 84
        },
        {
          "output_type": "display_data",
          "data": {
            "image/png": "[encoded data removed]",
            "text/plain": [
              "<Figure size 432x288 with 1 Axes>"
            ]
          },
          "metadata": {
            "tags": []
          }
        }
      ]
    },
    {
      "cell_type": "markdown",
      "metadata": {
        "id": "N2zbTqJ8Psb2",
        "colab_type": "text"
      },
      "source": [
        "# Нормализация данных"
      ]
    },
    {
      "cell_type": "markdown",
      "metadata": {
        "id": "8L3FOm_HQvJ8",
        "colab_type": "text"
      },
      "source": [
        "Операция центрирования"
      ]
    },
    {
      "cell_type": "code",
      "metadata": {
        "id": "EwYZwQ80Pu9U",
        "colab_type": "code",
        "outputId": "3f864111-fdb4-4436-ae5c-6e7a05620d4d",
        "colab": {
          "base_uri": "https://localhost:8080/",
          "height": 34
        }
      },
      "source": [
        "duration = df['duration']\n",
        "print(statistics.mean(duration))"
      ],
      "execution_count": 0,
      "outputs": [
        {
          "output_type": "stream",
          "text": [
            "99.12066686564619\n"
          ],
          "name": "stdout"
        }
      ]
    },
    {
      "cell_type": "markdown",
      "metadata": {
        "id": "HKgw8RnoQI0K",
        "colab_type": "text"
      },
      "source": [
        "Так как среднее значение не равно 0, необходимо нормализовать."
      ]
    },
    {
      "cell_type": "code",
      "metadata": {
        "id": "lOi7BDRFQM5F",
        "colab_type": "code",
        "outputId": "acda1635-44f1-4f38-bd8f-4496911a7153",
        "colab": {
          "base_uri": "https://localhost:8080/",
          "height": 34
        }
      },
      "source": [
        "duration_1 = duration - statistics.mean(duration)\n",
        "print(statistics.mean(duration_1))"
      ],
      "execution_count": 0,
      "outputs": [
        {
          "output_type": "stream",
          "text": [
            "2.4903685191438297e-16\n"
          ],
          "name": "stdout"
        }
      ]
    },
    {
      "cell_type": "markdown",
      "metadata": {
        "id": "TRb7CjfrRxjN",
        "colab_type": "text"
      },
      "source": [
        "Масштабирование выборки"
      ]
    },
    {
      "cell_type": "markdown",
      "metadata": {
        "id": "LMUSXtoSQgXY",
        "colab_type": "text"
      },
      "source": [
        "Разброс данных приводим к виду (0,1)  либо (-1,1)"
      ]
    },
    {
      "cell_type": "code",
      "metadata": {
        "id": "cKCjedy0QrgV",
        "colab_type": "code",
        "outputId": "e8cbe208-9d82-46a1-94ff-8ee0a842e370",
        "colab": {
          "base_uri": "https://localhost:8080/",
          "height": 34
        }
      },
      "source": [
        "min(duration_1)"
      ],
      "execution_count": 0,
      "outputs": [
        {
          "output_type": "execute_result",
          "data": {
            "text/plain": [
              "-59.120666865646186"
            ]
          },
          "metadata": {
            "tags": []
          },
          "execution_count": 87
        }
      ]
    },
    {
      "cell_type": "code",
      "metadata": {
        "id": "sfVH2SPxQ0C5",
        "colab_type": "code",
        "outputId": "404d7f3f-7846-460a-d671-608d957a33ca",
        "colab": {
          "base_uri": "https://localhost:8080/",
          "height": 34
        }
      },
      "source": [
        "max(duration_1)"
      ],
      "execution_count": 0,
      "outputs": [
        {
          "output_type": "execute_result",
          "data": {
            "text/plain": [
              "1425.8793331343538"
            ]
          },
          "metadata": {
            "tags": []
          },
          "execution_count": 88
        }
      ]
    },
    {
      "cell_type": "code",
      "metadata": {
        "id": "4xFlt0Z6RBHS",
        "colab_type": "code",
        "outputId": "95a7e415-5065-416d-c5f4-097fe0c078f2",
        "colab": {
          "base_uri": "https://localhost:8080/",
          "height": 51
        }
      },
      "source": [
        "from sklearn import preprocessing\n",
        "min_max_scaler = preprocessing.MinMaxScaler(feature_range=(-1,1))\n",
        "\n",
        "duration_2 = min_max_scaler.fit_transform(np.array(duration_1).reshape(-1, 1))\n",
        "print(min(duration_2))\n",
        "print(max(duration_2))"
      ],
      "execution_count": 0,
      "outputs": [
        {
          "output_type": "stream",
          "text": [
            "[-1.]\n",
            "[1.]\n"
          ],
          "name": "stdout"
        }
      ]
    },
    {
      "cell_type": "markdown",
      "metadata": {
        "id": "dClPNjPCkV6p",
        "colab_type": "text"
      },
      "source": [
        "# Корелляция Пирсона"
      ]
    },
    {
      "cell_type": "code",
      "metadata": {
        "id": "OROijh5ISvwW",
        "colab_type": "code",
        "outputId": "50009eac-3731-48cb-901c-b1f82344f28e",
        "colab": {
          "base_uri": "https://localhost:8080/",
          "height": 282
        }
      },
      "source": [
        "from scipy.stats import pearsonr\n",
        "x = [1, 2, 3, 4, 5]\n",
        "y = [2, 4, 6, 8, 10]\n",
        "\n",
        "corr, p_value = pearsonr(x, y)\n",
        "plt.scatter(x, y, marker='.')\n",
        "print('Коэффициент корреляции Пирсона:', corr)"
      ],
      "execution_count": 0,
      "outputs": [
        {
          "output_type": "stream",
          "text": [
            "Коэффициент корреляции Пирсона: 1.0\n"
          ],
          "name": "stdout"
        },
        {
          "output_type": "display_data",
          "data": {
            "image/png": "[encoded data removed]",
            "text/plain": [
              "<Figure size 432x288 with 1 Axes>"
            ]
          },
          "metadata": {
            "tags": []
          }
        }
      ]
    },
    {
      "cell_type": "markdown",
      "metadata": {
        "id": "JRss0MmITf7J",
        "colab_type": "text"
      },
      "source": [
        "Чтобы приступать к расчетам коэффициента корреляции r-Пирсона необходимо выполнение следующих условий:\n",
        "\n",
        "*  Исследуемые переменные X и Y должны быть распределены нормально (делаем допущение, что переменные распределены нормально).\n",
        "*  Исследуемые переменные X и Y должны быть измерены в интервальной шкале или шкале отношений.\n",
        "*  Количество значений в исследуемых переменных X и Y должно быть одинаковым."
      ]
    },
    {
      "cell_type": "markdown",
      "metadata": {
        "id": "g_dj25TdT3AP",
        "colab_type": "text"
      },
      "source": [
        "Чем коэффициент ближе к 0, тем более независимы переменные."
      ]
    },
    {
      "cell_type": "code",
      "metadata": {
        "id": "s9skCSQIT9jN",
        "colab_type": "code",
        "outputId": "9c37d783-b4b3-4875-efb6-0dc0ea1295f7",
        "colab": {
          "base_uri": "https://localhost:8080/",
          "height": 34
        }
      },
      "source": [
        "corr, p_value = pearsonr(duration, avg_vote)\n",
        "print(corr)"
      ],
      "execution_count": 0,
      "outputs": [
        {
          "output_type": "stream",
          "text": [
            "0.1111789114478769\n"
          ],
          "name": "stdout"
        }
      ]
    },
    {
      "cell_type": "markdown",
      "metadata": {
        "id": "uS5aIlZDTQEP",
        "colab_type": "text"
      },
      "source": [
        "**Минусы коэффициента корреляции Пирсона:**\n",
        "- Неустойчивость к выбросам.\n",
        "- С помощью коэффициента корреляции Пирсона можно определить только силу линейной взаимосвязи между переменными, другие виды взаимосвязей выявляются методами регрессионного анализа."
      ]
    },
    {
      "cell_type": "markdown",
      "metadata": {
        "id": "8QwR8rB80UpL",
        "colab_type": "text"
      },
      "source": [
        "# Пример корелляции данных, загруженных с помощью pandas"
      ]
    },
    {
      "cell_type": "markdown",
      "metadata": {
        "id": "a9luPeeG3igO",
        "colab_type": "text"
      },
      "source": [
        "Загружаем данные о ценах на авокадо в США"
      ]
    },
    {
      "cell_type": "code",
      "metadata": {
        "id": "Grmgj92l0auw",
        "colab_type": "code",
        "colab": {}
      },
      "source": [
        "import io\n",
        "import requests\n",
        "url=\"http://yustiks.ru/avocado.csv\"\n",
        "df=pd.read_csv(url)"
      ],
      "execution_count": 0,
      "outputs": []
    },
    {
      "cell_type": "markdown",
      "metadata": {
        "id": "HwGRShRkrYnP",
        "colab_type": "text"
      },
      "source": [
        "Данные представляют собой time-series data, или временной ряд. В каждый из дней даны такие показатели, как:\n",
        "\n",
        "\n",
        "*   Date - день показания\n",
        "*   AveragePrice - средняя цена на один авокадо (авокадо продаются обычно в брикетах по несколько штук)\n",
        "*   Total Volume - сколько всего было куплено авокадо\n",
        "*   4046 - общее количество авокадо с кодом 4046\n",
        "*   4225 - общее количество авокадо с кодом 4225\n",
        "*   4770 - общее количество авокадо с кодом 4770\n",
        "*   Total Bags - количество проданных брикетов всего\n",
        "*   Small Bags - количество проданных малых брикетов\n",
        "*   Large Bags - количество проданных больших брикетов\n",
        "*   XLarge Bags - количество проданных XLarge брикетов\n",
        "*   type - conventional или organic\n",
        "*   year - год продажи\n",
        "*   region - регион показаний\n",
        "\n",
        "\n"
      ]
    },
    {
      "cell_type": "markdown",
      "metadata": {
        "id": "kwlAXki6tnOH",
        "colab_type": "text"
      },
      "source": [
        "Более подробно можно почитать о датасете цен на авокадо: https://www.kaggle.com/neuromusic/avocado-prices"
      ]
    },
    {
      "cell_type": "markdown",
      "metadata": {
        "id": "glN4jbZu3pWz",
        "colab_type": "text"
      },
      "source": [
        "Печатаем 5 значений"
      ]
    },
    {
      "cell_type": "code",
      "metadata": {
        "id": "fuynoeix3pgK",
        "colab_type": "code",
        "outputId": "875040e5-6b66-4652-bd88-b08d56b19c07",
        "colab": {
          "base_uri": "https://localhost:8080/",
          "height": 326
        }
      },
      "source": [
        "df[:5]"
      ],
      "execution_count": 0,
      "outputs": [
        {
          "output_type": "execute_result",
          "data": {
            "text/html": [
              "<div>\n",
              "<style scoped>\n",
              "    .dataframe tbody tr th:only-of-type {\n",
              "        vertical-align: middle;\n",
              "    }\n",
              "\n",
              "    .dataframe tbody tr th {\n",
              "        vertical-align: top;\n",
              "    }\n",
              "\n",
              "    .dataframe thead th {\n",
              "        text-align: right;\n",
              "    }\n",
              "</style>\n",
              "<table border=\"1\" class=\"dataframe\">\n",
              "  <thead>\n",
              "    <tr style=\"text-align: right;\">\n",
              "      <th></th>\n",
              "      <th>Unnamed: 0</th>\n",
              "      <th>Date</th>\n",
              "      <th>AveragePrice</th>\n",
              "      <th>Total Volume</th>\n",
              "      <th>4046</th>\n",
              "      <th>4225</th>\n",
              "      <th>4770</th>\n",
              "      <th>Total Bags</th>\n",
              "      <th>Small Bags</th>\n",
              "      <th>Large Bags</th>\n",
              "      <th>XLarge Bags</th>\n",
              "      <th>type</th>\n",
              "      <th>year</th>\n",
              "      <th>region</th>\n",
              "    </tr>\n",
              "  </thead>\n",
              "  <tbody>\n",
              "    <tr>\n",
              "      <th>0</th>\n",
              "      <td>0</td>\n",
              "      <td>2015-12-27</td>\n",
              "      <td>1.33</td>\n",
              "      <td>64236.62</td>\n",
              "      <td>1036.74</td>\n",
              "      <td>54454.85</td>\n",
              "      <td>48.16</td>\n",
              "      <td>8696.87</td>\n",
              "      <td>8603.62</td>\n",
              "      <td>93.25</td>\n",
              "      <td>0.0</td>\n",
              "      <td>conventional</td>\n",
              "      <td>2015</td>\n",
              "      <td>Albany</td>\n",
              "    </tr>\n",
              "    <tr>\n",
              "      <th>1</th>\n",
              "      <td>1</td>\n",
              "      <td>2015-12-20</td>\n",
              "      <td>1.35</td>\n",
              "      <td>54876.98</td>\n",
              "      <td>674.28</td>\n",
              "      <td>44638.81</td>\n",
              "      <td>58.33</td>\n",
              "      <td>9505.56</td>\n",
              "      <td>9408.07</td>\n",
              "      <td>97.49</td>\n",
              "      <td>0.0</td>\n",
              "      <td>conventional</td>\n",
              "      <td>2015</td>\n",
              "      <td>Albany</td>\n",
              "    </tr>\n",
              "    <tr>\n",
              "      <th>2</th>\n",
              "      <td>2</td>\n",
              "      <td>2015-12-13</td>\n",
              "      <td>0.93</td>\n",
              "      <td>118220.22</td>\n",
              "      <td>794.70</td>\n",
              "      <td>109149.67</td>\n",
              "      <td>130.50</td>\n",
              "      <td>8145.35</td>\n",
              "      <td>8042.21</td>\n",
              "      <td>103.14</td>\n",
              "      <td>0.0</td>\n",
              "      <td>conventional</td>\n",
              "      <td>2015</td>\n",
              "      <td>Albany</td>\n",
              "    </tr>\n",
              "    <tr>\n",
              "      <th>3</th>\n",
              "      <td>3</td>\n",
              "      <td>2015-12-06</td>\n",
              "      <td>1.08</td>\n",
              "      <td>78992.15</td>\n",
              "      <td>1132.00</td>\n",
              "      <td>71976.41</td>\n",
              "      <td>72.58</td>\n",
              "      <td>5811.16</td>\n",
              "      <td>5677.40</td>\n",
              "      <td>133.76</td>\n",
              "      <td>0.0</td>\n",
              "      <td>conventional</td>\n",
              "      <td>2015</td>\n",
              "      <td>Albany</td>\n",
              "    </tr>\n",
              "    <tr>\n",
              "      <th>4</th>\n",
              "      <td>4</td>\n",
              "      <td>2015-11-29</td>\n",
              "      <td>1.28</td>\n",
              "      <td>51039.60</td>\n",
              "      <td>941.48</td>\n",
              "      <td>43838.39</td>\n",
              "      <td>75.78</td>\n",
              "      <td>6183.95</td>\n",
              "      <td>5986.26</td>\n",
              "      <td>197.69</td>\n",
              "      <td>0.0</td>\n",
              "      <td>conventional</td>\n",
              "      <td>2015</td>\n",
              "      <td>Albany</td>\n",
              "    </tr>\n",
              "  </tbody>\n",
              "</table>\n",
              "</div>"
            ],
            "text/plain": [
              "   Unnamed: 0        Date  AveragePrice  ...          type  year  region\n",
              "0           0  2015-12-27          1.33  ...  conventional  2015  Albany\n",
              "1           1  2015-12-20          1.35  ...  conventional  2015  Albany\n",
              "2           2  2015-12-13          0.93  ...  conventional  2015  Albany\n",
              "3           3  2015-12-06          1.08  ...  conventional  2015  Albany\n",
              "4           4  2015-11-29          1.28  ...  conventional  2015  Albany\n",
              "\n",
              "[5 rows x 14 columns]"
            ]
          },
          "metadata": {
            "tags": []
          },
          "execution_count": 107
        }
      ]
    },
    {
      "cell_type": "markdown",
      "metadata": {
        "id": "sEFsvHrz4_-e",
        "colab_type": "text"
      },
      "source": [
        "Размер выборки:"
      ]
    },
    {
      "cell_type": "code",
      "metadata": {
        "id": "7Jv8Ycd_5Ej3",
        "colab_type": "code",
        "outputId": "5201cb14-2dee-43af-c48f-7ee63a33be9a",
        "colab": {
          "base_uri": "https://localhost:8080/",
          "height": 34
        }
      },
      "source": [
        "len(df)"
      ],
      "execution_count": 0,
      "outputs": [
        {
          "output_type": "execute_result",
          "data": {
            "text/plain": [
              "18249"
            ]
          },
          "metadata": {
            "tags": []
          },
          "execution_count": 108
        }
      ]
    },
    {
      "cell_type": "markdown",
      "metadata": {
        "id": "_gAN_XSH5hw7",
        "colab_type": "text"
      },
      "source": [
        "Нормализация значений"
      ]
    },
    {
      "cell_type": "code",
      "metadata": {
        "id": "hqEUSECn5glZ",
        "colab_type": "code",
        "outputId": "5262817b-6496-47ef-c6cc-59a9e0666c70",
        "colab": {
          "base_uri": "https://localhost:8080/",
          "height": 119
        }
      },
      "source": [
        "from sklearn import preprocessing\n",
        "min_max_scaler = preprocessing.MinMaxScaler(feature_range=(0,1))\n",
        "\n",
        "np_scaled = min_max_scaler.fit_transform(df[['Total Volume', 'Total Bags']])\n",
        "df_norm = pd.DataFrame(np_scaled)\n",
        "print(df_norm[:5])"
      ],
      "execution_count": 0,
      "outputs": [
        {
          "output_type": "stream",
          "text": [
            "          0         1\n",
            "0  0.001026  0.000449\n",
            "1  0.000877  0.000491\n",
            "2  0.001890  0.000420\n",
            "3  0.001262  0.000300\n",
            "4  0.000815  0.000319\n"
          ],
          "name": "stdout"
        }
      ]
    },
    {
      "cell_type": "markdown",
      "metadata": {
        "id": "XwQJ23Wt5LQL",
        "colab_type": "text"
      },
      "source": [
        "Корелляция скорее всего между Total Volume и Total Bags "
      ]
    },
    {
      "cell_type": "code",
      "metadata": {
        "id": "z7LtIv0y5U47",
        "colab_type": "code",
        "colab": {}
      },
      "source": [
        "volume = df_norm[0]\n",
        "bags = df_norm[1]"
      ],
      "execution_count": 0,
      "outputs": []
    },
    {
      "cell_type": "markdown",
      "metadata": {
        "id": "L29CEeEg6g--",
        "colab_type": "text"
      },
      "source": [
        "Посмотрим насколько они зависят друг от друга:"
      ]
    },
    {
      "cell_type": "code",
      "metadata": {
        "id": "kdxrRw2Y6klP",
        "colab_type": "code",
        "outputId": "1e75fcdc-4211-42aa-fd3f-a1282427cb2e",
        "colab": {
          "base_uri": "https://localhost:8080/",
          "height": 265
        }
      },
      "source": [
        "plt.plot(volume, bags, 'r.')\n",
        "plt.show()"
      ],
      "execution_count": 0,
      "outputs": [
        {
          "output_type": "display_data",
          "data": {
            "image/png": "[encoded data removed]",
            "text/plain": [
              "<Figure size 432x288 with 1 Axes>"
            ]
          },
          "metadata": {
            "tags": []
          }
        }
      ]
    },
    {
      "cell_type": "code",
      "metadata": {
        "id": "4S9PgAj8X7FC",
        "colab_type": "code",
        "outputId": "5de18071-4b5a-45c8-92a1-e2729f935b4a",
        "colab": {
          "base_uri": "https://localhost:8080/",
          "height": 34
        }
      },
      "source": [
        "corr, p_value = pearsonr(volume, bags)\n",
        "print(corr)"
      ],
      "execution_count": 0,
      "outputs": [
        {
          "output_type": "stream",
          "text": [
            "0.9630470824267293\n"
          ],
          "name": "stdout"
        }
      ]
    },
    {
      "cell_type": "markdown",
      "metadata": {
        "id": "Hg2Z9A29IIRH",
        "colab_type": "text"
      },
      "source": [
        "Полный список функций SciPy для работы со всеми распределениями можно найти тут: http://docs.scipy.org/doc/scipy-0.14.0/reference/stats.html"
      ]
    },
    {
      "cell_type": "markdown",
      "metadata": {
        "id": "ptR-sMx3ZuQ9",
        "colab_type": "text"
      },
      "source": [
        "Матрица корреляций."
      ]
    },
    {
      "cell_type": "code",
      "metadata": {
        "id": "feNUY0iGZx_l",
        "colab_type": "code",
        "outputId": "fbf99057-c5ab-48ab-873f-303a0f00cf3d",
        "colab": {
          "base_uri": "https://localhost:8080/",
          "height": 761
        }
      },
      "source": [
        "import seaborn as sns\n",
        "sns.heatmap(df.corr(),annot=True,cmap='RdYlGn',linewidths=0.2) #data.corr()-->correlation matrix\n",
        "fig=plt.gcf()\n",
        "fig.set_size_inches(12,12)\n",
        "plt.show()\n"
      ],
      "execution_count": 0,
      "outputs": [
        {
          "output_type": "display_data",
          "data": {
            "image/png": "[encoded data removed]",
            "text/plain": [
              "<Figure size 864x864 with 2 Axes>"
            ]
          },
          "metadata": {
            "tags": []
          }
        }
      ]
    },
    {
      "cell_type": "code",
      "metadata": {
        "id": "t_aB-4l1u37p",
        "colab_type": "code",
        "outputId": "1ce64f43-b47d-4c05-a3f2-f4b3f9195c0b",
        "colab": {
          "base_uri": "https://localhost:8080/",
          "height": 326
        }
      },
      "source": [
        "df['Date'] = pd.to_datetime(df['Date'])\n",
        "df.head()"
      ],
      "execution_count": 0,
      "outputs": [
        {
          "output_type": "execute_result",
          "data": {
            "text/html": [
              "<div>\n",
              "<style scoped>\n",
              "    .dataframe tbody tr th:only-of-type {\n",
              "        vertical-align: middle;\n",
              "    }\n",
              "\n",
              "    .dataframe tbody tr th {\n",
              "        vertical-align: top;\n",
              "    }\n",
              "\n",
              "    .dataframe thead th {\n",
              "        text-align: right;\n",
              "    }\n",
              "</style>\n",
              "<table border=\"1\" class=\"dataframe\">\n",
              "  <thead>\n",
              "    <tr style=\"text-align: right;\">\n",
              "      <th></th>\n",
              "      <th>Unnamed: 0</th>\n",
              "      <th>Date</th>\n",
              "      <th>AveragePrice</th>\n",
              "      <th>Total Volume</th>\n",
              "      <th>4046</th>\n",
              "      <th>4225</th>\n",
              "      <th>4770</th>\n",
              "      <th>Total Bags</th>\n",
              "      <th>Small Bags</th>\n",
              "      <th>Large Bags</th>\n",
              "      <th>XLarge Bags</th>\n",
              "      <th>type</th>\n",
              "      <th>year</th>\n",
              "      <th>region</th>\n",
              "    </tr>\n",
              "  </thead>\n",
              "  <tbody>\n",
              "    <tr>\n",
              "      <th>0</th>\n",
              "      <td>0</td>\n",
              "      <td>2015-12-27</td>\n",
              "      <td>1.33</td>\n",
              "      <td>64236.62</td>\n",
              "      <td>1036.74</td>\n",
              "      <td>54454.85</td>\n",
              "      <td>48.16</td>\n",
              "      <td>8696.87</td>\n",
              "      <td>8603.62</td>\n",
              "      <td>93.25</td>\n",
              "      <td>0.0</td>\n",
              "      <td>conventional</td>\n",
              "      <td>2015</td>\n",
              "      <td>Albany</td>\n",
              "    </tr>\n",
              "    <tr>\n",
              "      <th>1</th>\n",
              "      <td>1</td>\n",
              "      <td>2015-12-20</td>\n",
              "      <td>1.35</td>\n",
              "      <td>54876.98</td>\n",
              "      <td>674.28</td>\n",
              "      <td>44638.81</td>\n",
              "      <td>58.33</td>\n",
              "      <td>9505.56</td>\n",
              "      <td>9408.07</td>\n",
              "      <td>97.49</td>\n",
              "      <td>0.0</td>\n",
              "      <td>conventional</td>\n",
              "      <td>2015</td>\n",
              "      <td>Albany</td>\n",
              "    </tr>\n",
              "    <tr>\n",
              "      <th>2</th>\n",
              "      <td>2</td>\n",
              "      <td>2015-12-13</td>\n",
              "      <td>0.93</td>\n",
              "      <td>118220.22</td>\n",
              "      <td>794.70</td>\n",
              "      <td>109149.67</td>\n",
              "      <td>130.50</td>\n",
              "      <td>8145.35</td>\n",
              "      <td>8042.21</td>\n",
              "      <td>103.14</td>\n",
              "      <td>0.0</td>\n",
              "      <td>conventional</td>\n",
              "      <td>2015</td>\n",
              "      <td>Albany</td>\n",
              "    </tr>\n",
              "    <tr>\n",
              "      <th>3</th>\n",
              "      <td>3</td>\n",
              "      <td>2015-12-06</td>\n",
              "      <td>1.08</td>\n",
              "      <td>78992.15</td>\n",
              "      <td>1132.00</td>\n",
              "      <td>71976.41</td>\n",
              "      <td>72.58</td>\n",
              "      <td>5811.16</td>\n",
              "      <td>5677.40</td>\n",
              "      <td>133.76</td>\n",
              "      <td>0.0</td>\n",
              "      <td>conventional</td>\n",
              "      <td>2015</td>\n",
              "      <td>Albany</td>\n",
              "    </tr>\n",
              "    <tr>\n",
              "      <th>4</th>\n",
              "      <td>4</td>\n",
              "      <td>2015-11-29</td>\n",
              "      <td>1.28</td>\n",
              "      <td>51039.60</td>\n",
              "      <td>941.48</td>\n",
              "      <td>43838.39</td>\n",
              "      <td>75.78</td>\n",
              "      <td>6183.95</td>\n",
              "      <td>5986.26</td>\n",
              "      <td>197.69</td>\n",
              "      <td>0.0</td>\n",
              "      <td>conventional</td>\n",
              "      <td>2015</td>\n",
              "      <td>Albany</td>\n",
              "    </tr>\n",
              "  </tbody>\n",
              "</table>\n",
              "</div>"
            ],
            "text/plain": [
              "   Unnamed: 0       Date  AveragePrice  ...          type  year  region\n",
              "0           0 2015-12-27          1.33  ...  conventional  2015  Albany\n",
              "1           1 2015-12-20          1.35  ...  conventional  2015  Albany\n",
              "2           2 2015-12-13          0.93  ...  conventional  2015  Albany\n",
              "3           3 2015-12-06          1.08  ...  conventional  2015  Albany\n",
              "4           4 2015-11-29          1.28  ...  conventional  2015  Albany\n",
              "\n",
              "[5 rows x 14 columns]"
            ]
          },
          "metadata": {
            "tags": []
          },
          "execution_count": 114
        }
      ]
    },
    {
      "cell_type": "markdown",
      "metadata": {
        "id": "c530M8zGwqAD",
        "colab_type": "text"
      },
      "source": [
        "В выборке имеется два вида авокадо: промышленный и органический. Выберем промышленный авокадо для анализа."
      ]
    },
    {
      "cell_type": "code",
      "metadata": {
        "id": "d19TPmVew1Q1",
        "colab_type": "code",
        "colab": {}
      },
      "source": [
        "PREDICTION_TYPE = 'conventional'\n",
        "df_conv = df[df.type == PREDICTION_TYPE]"
      ],
      "execution_count": 0,
      "outputs": []
    },
    {
      "cell_type": "code",
      "metadata": {
        "id": "kWULyRU2wOVB",
        "colab_type": "code",
        "outputId": "f7b5d02b-76e3-4baf-e4b4-9139b0e2758a",
        "colab": {
          "base_uri": "https://localhost:8080/",
          "height": 969
        }
      },
      "source": [
        "regions = df_conv.groupby(df_conv.region)\n",
        "print(\"Всего регионов в выборке :\", len(regions))\n",
        "print(\"-------------\")\n",
        "for name, group in regions:\n",
        "    print(name, \" : \", len(group))"
      ],
      "execution_count": 0,
      "outputs": [
        {
          "output_type": "stream",
          "text": [
            "Всего регионов в выборке : 54\n",
            "-------------\n",
            "Albany  :  169\n",
            "Atlanta  :  169\n",
            "BaltimoreWashington  :  169\n",
            "Boise  :  169\n",
            "Boston  :  169\n",
            "BuffaloRochester  :  169\n",
            "California  :  169\n",
            "Charlotte  :  169\n",
            "Chicago  :  169\n",
            "CincinnatiDayton  :  169\n",
            "Columbus  :  169\n",
            "DallasFtWorth  :  169\n",
            "Denver  :  169\n",
            "Detroit  :  169\n",
            "GrandRapids  :  169\n",
            "GreatLakes  :  169\n",
            "HarrisburgScranton  :  169\n",
            "HartfordSpringfield  :  169\n",
            "Houston  :  169\n",
            "Indianapolis  :  169\n",
            "Jacksonville  :  169\n",
            "LasVegas  :  169\n",
            "LosAngeles  :  169\n",
            "Louisville  :  169\n",
            "MiamiFtLauderdale  :  169\n",
            "Midsouth  :  169\n",
            "Nashville  :  169\n",
            "NewOrleansMobile  :  169\n",
            "NewYork  :  169\n",
            "Northeast  :  169\n",
            "NorthernNewEngland  :  169\n",
            "Orlando  :  169\n",
            "Philadelphia  :  169\n",
            "PhoenixTucson  :  169\n",
            "Pittsburgh  :  169\n",
            "Plains  :  169\n",
            "Portland  :  169\n",
            "RaleighGreensboro  :  169\n",
            "RichmondNorfolk  :  169\n",
            "Roanoke  :  169\n",
            "Sacramento  :  169\n",
            "SanDiego  :  169\n",
            "SanFrancisco  :  169\n",
            "Seattle  :  169\n",
            "SouthCarolina  :  169\n",
            "SouthCentral  :  169\n",
            "Southeast  :  169\n",
            "Spokane  :  169\n",
            "StLouis  :  169\n",
            "Syracuse  :  169\n",
            "Tampa  :  169\n",
            "TotalUS  :  169\n",
            "West  :  169\n",
            "WestTexNewMexico  :  169\n"
          ],
          "name": "stdout"
        }
      ]
    },
    {
      "cell_type": "markdown",
      "metadata": {
        "id": "ZwRIulGHw8VN",
        "colab_type": "text"
      },
      "source": [
        "У нас есть задание проанализировать рынок для определенного региона: TotalUS."
      ]
    },
    {
      "cell_type": "code",
      "metadata": {
        "id": "Cjdc23flxIrv",
        "colab_type": "code",
        "colab": {}
      },
      "source": [
        "PREDICTING_FOR = \"TotalUS\"\n",
        "date_price = regions.get_group(PREDICTING_FOR)[['Date', 'AveragePrice']].reset_index(drop=True)"
      ],
      "execution_count": 0,
      "outputs": []
    },
    {
      "cell_type": "code",
      "metadata": {
        "id": "CI8ta7ZxxQXX",
        "colab_type": "code",
        "outputId": "468f2f04-8285-4f23-a738-bf241bb344ef",
        "colab": {
          "base_uri": "https://localhost:8080/",
          "height": 294
        }
      },
      "source": [
        "date_price.plot(x='Date', y='AveragePrice', kind=\"line\")"
      ],
      "execution_count": 0,
      "outputs": [
        {
          "output_type": "execute_result",
          "data": {
            "text/plain": [
              "<matplotlib.axes._subplots.AxesSubplot at 0x7f839691e0f0>"
            ]
          },
          "metadata": {
            "tags": []
          },
          "execution_count": 180
        },
        {
          "output_type": "display_data",
          "data": {
            "image/png": "[encoded data removed]",
            "text/plain": [
              "<Figure size 432x288 with 1 Axes>"
            ]
          },
          "metadata": {
            "tags": []
          }
        }
      ]
    },
    {
      "cell_type": "markdown",
      "metadata": {
        "id": "oG6PRZsExloS",
        "colab_type": "text"
      },
      "source": [
        "Итак, у нас есть исторические данные, и мы хотим предсказать на их основе, как будет меняться цена в будущем. Для этого можно использовать разные методы. Допустим, мы хотим реализовать имеющийся инструмент - [Prophet](https://facebook.github.io/prophet/docs/quick_start.html)"
      ]
    },
    {
      "cell_type": "markdown",
      "metadata": {
        "id": "H_ALetspyIeW",
        "colab_type": "text"
      },
      "source": [
        "Во-первых, переименуем столбцы как того требует prophet."
      ]
    },
    {
      "cell_type": "code",
      "metadata": {
        "id": "fxr7Tm0gyCtI",
        "colab_type": "code",
        "colab": {}
      },
      "source": [
        "date_price = date_price.rename(columns={'Date':'ds', 'AveragePrice':'y'})"
      ],
      "execution_count": 0,
      "outputs": []
    },
    {
      "cell_type": "markdown",
      "metadata": {
        "id": "XYpQa3nbyO5d",
        "colab_type": "text"
      },
      "source": [
        "Во-вторых, разделим данные на 80% тренировочных и на 20% тестовых:"
      ]
    },
    {
      "cell_type": "code",
      "metadata": {
        "id": "OfmykfwV1Gs2",
        "colab_type": "code",
        "colab": {}
      },
      "source": [
        "date_price = date_price.sort_values(by='ds')"
      ],
      "execution_count": 0,
      "outputs": []
    },
    {
      "cell_type": "code",
      "metadata": {
        "id": "T8kEJFH8yewq",
        "colab_type": "code",
        "colab": {}
      },
      "source": [
        "amount_80 = int(len(date_price)*0.8)\n",
        "train_price = date_price[:amount_80]\n",
        "test_price = date_price[amount_80:]\n"
      ],
      "execution_count": 0,
      "outputs": []
    },
    {
      "cell_type": "code",
      "metadata": {
        "id": "yKxj0Qpw4-qf",
        "colab_type": "code",
        "outputId": "21d7795b-b9f3-43ba-842d-0d967cd2d049",
        "colab": {
          "base_uri": "https://localhost:8080/",
          "height": 204
        }
      },
      "source": [
        "train_price.head()"
      ],
      "execution_count": 0,
      "outputs": [
        {
          "output_type": "execute_result",
          "data": {
            "text/html": [
              "<div>\n",
              "<style scoped>\n",
              "    .dataframe tbody tr th:only-of-type {\n",
              "        vertical-align: middle;\n",
              "    }\n",
              "\n",
              "    .dataframe tbody tr th {\n",
              "        vertical-align: top;\n",
              "    }\n",
              "\n",
              "    .dataframe thead th {\n",
              "        text-align: right;\n",
              "    }\n",
              "</style>\n",
              "<table border=\"1\" class=\"dataframe\">\n",
              "  <thead>\n",
              "    <tr style=\"text-align: right;\">\n",
              "      <th></th>\n",
              "      <th>ds</th>\n",
              "      <th>y</th>\n",
              "    </tr>\n",
              "  </thead>\n",
              "  <tbody>\n",
              "    <tr>\n",
              "      <th>51</th>\n",
              "      <td>2015-01-04</td>\n",
              "      <td>0.95</td>\n",
              "    </tr>\n",
              "    <tr>\n",
              "      <th>50</th>\n",
              "      <td>2015-01-11</td>\n",
              "      <td>1.01</td>\n",
              "    </tr>\n",
              "    <tr>\n",
              "      <th>49</th>\n",
              "      <td>2015-01-18</td>\n",
              "      <td>1.03</td>\n",
              "    </tr>\n",
              "    <tr>\n",
              "      <th>48</th>\n",
              "      <td>2015-01-25</td>\n",
              "      <td>1.04</td>\n",
              "    </tr>\n",
              "    <tr>\n",
              "      <th>47</th>\n",
              "      <td>2015-02-01</td>\n",
              "      <td>0.89</td>\n",
              "    </tr>\n",
              "  </tbody>\n",
              "</table>\n",
              "</div>"
            ],
            "text/plain": [
              "           ds     y\n",
              "51 2015-01-04  0.95\n",
              "50 2015-01-11  1.01\n",
              "49 2015-01-18  1.03\n",
              "48 2015-01-25  1.04\n",
              "47 2015-02-01  0.89"
            ]
          },
          "metadata": {
            "tags": []
          },
          "execution_count": 200
        }
      ]
    },
    {
      "cell_type": "code",
      "metadata": {
        "id": "9w2IKapR5B6M",
        "colab_type": "code",
        "outputId": "8155652e-7511-473f-d8d8-3d3f93c049e5",
        "colab": {
          "base_uri": "https://localhost:8080/",
          "height": 204
        }
      },
      "source": [
        "train_price.tail()"
      ],
      "execution_count": 0,
      "outputs": [
        {
          "output_type": "execute_result",
          "data": {
            "text/html": [
              "<div>\n",
              "<style scoped>\n",
              "    .dataframe tbody tr th:only-of-type {\n",
              "        vertical-align: middle;\n",
              "    }\n",
              "\n",
              "    .dataframe tbody tr th {\n",
              "        vertical-align: top;\n",
              "    }\n",
              "\n",
              "    .dataframe thead th {\n",
              "        text-align: right;\n",
              "    }\n",
              "</style>\n",
              "<table border=\"1\" class=\"dataframe\">\n",
              "  <thead>\n",
              "    <tr style=\"text-align: right;\">\n",
              "      <th></th>\n",
              "      <th>ds</th>\n",
              "      <th>y</th>\n",
              "    </tr>\n",
              "  </thead>\n",
              "  <tbody>\n",
              "    <tr>\n",
              "      <th>130</th>\n",
              "      <td>2017-07-02</td>\n",
              "      <td>1.21</td>\n",
              "    </tr>\n",
              "    <tr>\n",
              "      <th>129</th>\n",
              "      <td>2017-07-09</td>\n",
              "      <td>1.17</td>\n",
              "    </tr>\n",
              "    <tr>\n",
              "      <th>128</th>\n",
              "      <td>2017-07-16</td>\n",
              "      <td>1.33</td>\n",
              "    </tr>\n",
              "    <tr>\n",
              "      <th>127</th>\n",
              "      <td>2017-07-23</td>\n",
              "      <td>1.31</td>\n",
              "    </tr>\n",
              "    <tr>\n",
              "      <th>126</th>\n",
              "      <td>2017-07-30</td>\n",
              "      <td>1.32</td>\n",
              "    </tr>\n",
              "  </tbody>\n",
              "</table>\n",
              "</div>"
            ],
            "text/plain": [
              "            ds     y\n",
              "130 2017-07-02  1.21\n",
              "129 2017-07-09  1.17\n",
              "128 2017-07-16  1.33\n",
              "127 2017-07-23  1.31\n",
              "126 2017-07-30  1.32"
            ]
          },
          "metadata": {
            "tags": []
          },
          "execution_count": 201
        }
      ]
    },
    {
      "cell_type": "code",
      "metadata": {
        "id": "5msENEg05Ej-",
        "colab_type": "code",
        "outputId": "8d0780ba-2c1e-4f75-d66b-9128aeb3df23",
        "colab": {
          "base_uri": "https://localhost:8080/",
          "height": 204
        }
      },
      "source": [
        "test_price.head()"
      ],
      "execution_count": 0,
      "outputs": [
        {
          "output_type": "execute_result",
          "data": {
            "text/html": [
              "<div>\n",
              "<style scoped>\n",
              "    .dataframe tbody tr th:only-of-type {\n",
              "        vertical-align: middle;\n",
              "    }\n",
              "\n",
              "    .dataframe tbody tr th {\n",
              "        vertical-align: top;\n",
              "    }\n",
              "\n",
              "    .dataframe thead th {\n",
              "        text-align: right;\n",
              "    }\n",
              "</style>\n",
              "<table border=\"1\" class=\"dataframe\">\n",
              "  <thead>\n",
              "    <tr style=\"text-align: right;\">\n",
              "      <th></th>\n",
              "      <th>ds</th>\n",
              "      <th>y</th>\n",
              "    </tr>\n",
              "  </thead>\n",
              "  <tbody>\n",
              "    <tr>\n",
              "      <th>125</th>\n",
              "      <td>2017-08-06</td>\n",
              "      <td>1.33</td>\n",
              "    </tr>\n",
              "    <tr>\n",
              "      <th>124</th>\n",
              "      <td>2017-08-13</td>\n",
              "      <td>1.33</td>\n",
              "    </tr>\n",
              "    <tr>\n",
              "      <th>123</th>\n",
              "      <td>2017-08-20</td>\n",
              "      <td>1.41</td>\n",
              "    </tr>\n",
              "    <tr>\n",
              "      <th>122</th>\n",
              "      <td>2017-08-27</td>\n",
              "      <td>1.47</td>\n",
              "    </tr>\n",
              "    <tr>\n",
              "      <th>121</th>\n",
              "      <td>2017-09-03</td>\n",
              "      <td>1.57</td>\n",
              "    </tr>\n",
              "  </tbody>\n",
              "</table>\n",
              "</div>"
            ],
            "text/plain": [
              "            ds     y\n",
              "125 2017-08-06  1.33\n",
              "124 2017-08-13  1.33\n",
              "123 2017-08-20  1.41\n",
              "122 2017-08-27  1.47\n",
              "121 2017-09-03  1.57"
            ]
          },
          "metadata": {
            "tags": []
          },
          "execution_count": 202
        }
      ]
    },
    {
      "cell_type": "code",
      "metadata": {
        "id": "Vz9ncqhH5G8U",
        "colab_type": "code",
        "outputId": "8242682b-cca3-4a7c-e5bc-405e17c78ee6",
        "colab": {
          "base_uri": "https://localhost:8080/",
          "height": 204
        }
      },
      "source": [
        "test_price.tail()"
      ],
      "execution_count": 0,
      "outputs": [
        {
          "output_type": "execute_result",
          "data": {
            "text/html": [
              "<div>\n",
              "<style scoped>\n",
              "    .dataframe tbody tr th:only-of-type {\n",
              "        vertical-align: middle;\n",
              "    }\n",
              "\n",
              "    .dataframe tbody tr th {\n",
              "        vertical-align: top;\n",
              "    }\n",
              "\n",
              "    .dataframe thead th {\n",
              "        text-align: right;\n",
              "    }\n",
              "</style>\n",
              "<table border=\"1\" class=\"dataframe\">\n",
              "  <thead>\n",
              "    <tr style=\"text-align: right;\">\n",
              "      <th></th>\n",
              "      <th>ds</th>\n",
              "      <th>y</th>\n",
              "    </tr>\n",
              "  </thead>\n",
              "  <tbody>\n",
              "    <tr>\n",
              "      <th>161</th>\n",
              "      <td>2018-02-25</td>\n",
              "      <td>1.06</td>\n",
              "    </tr>\n",
              "    <tr>\n",
              "      <th>160</th>\n",
              "      <td>2018-03-04</td>\n",
              "      <td>1.07</td>\n",
              "    </tr>\n",
              "    <tr>\n",
              "      <th>159</th>\n",
              "      <td>2018-03-11</td>\n",
              "      <td>1.09</td>\n",
              "    </tr>\n",
              "    <tr>\n",
              "      <th>158</th>\n",
              "      <td>2018-03-18</td>\n",
              "      <td>1.05</td>\n",
              "    </tr>\n",
              "    <tr>\n",
              "      <th>157</th>\n",
              "      <td>2018-03-25</td>\n",
              "      <td>1.03</td>\n",
              "    </tr>\n",
              "  </tbody>\n",
              "</table>\n",
              "</div>"
            ],
            "text/plain": [
              "            ds     y\n",
              "161 2018-02-25  1.06\n",
              "160 2018-03-04  1.07\n",
              "159 2018-03-11  1.09\n",
              "158 2018-03-18  1.05\n",
              "157 2018-03-25  1.03"
            ]
          },
          "metadata": {
            "tags": []
          },
          "execution_count": 203
        }
      ]
    },
    {
      "cell_type": "markdown",
      "metadata": {
        "id": "pCGOoLH1yTcI",
        "colab_type": "text"
      },
      "source": [
        "В-третьих, обучим модель:"
      ]
    },
    {
      "cell_type": "code",
      "metadata": {
        "id": "9Hup68a0zKZm",
        "colab_type": "code",
        "outputId": "ac34bd73-240e-49d0-ad54-62773761d8eb",
        "colab": {
          "base_uri": "https://localhost:8080/",
          "height": 227
        }
      },
      "source": [
        "from fbprophet import Prophet\n",
        "m = Prophet()\n",
        "m.fit(train_price)"
      ],
      "execution_count": 0,
      "outputs": [
        {
          "output_type": "error",
          "ename": "NameError",
          "evalue": "ignored",
          "traceback": [
            "\u001b[0;31m---------------------------------------------------------------------------\u001b[0m",
            "\u001b[0;31mNameError\u001b[0m                                 Traceback (most recent call last)",
            "\u001b[0;32m<ipython-input-4-86f794af7fd0>\u001b[0m in \u001b[0;36m<module>\u001b[0;34m()\u001b[0m\n\u001b[1;32m      1\u001b[0m \u001b[0;32mfrom\u001b[0m \u001b[0mfbprophet\u001b[0m \u001b[0;32mimport\u001b[0m \u001b[0mProphet\u001b[0m\u001b[0;34m\u001b[0m\u001b[0;34m\u001b[0m\u001b[0m\n\u001b[1;32m      2\u001b[0m \u001b[0mm\u001b[0m \u001b[0;34m=\u001b[0m \u001b[0mProphet\u001b[0m\u001b[0;34m(\u001b[0m\u001b[0;34m)\u001b[0m\u001b[0;34m\u001b[0m\u001b[0;34m\u001b[0m\u001b[0m\n\u001b[0;32m----> 3\u001b[0;31m \u001b[0mm\u001b[0m\u001b[0;34m.\u001b[0m\u001b[0mfit\u001b[0m\u001b[0;34m(\u001b[0m\u001b[0mtrain_price\u001b[0m\u001b[0;34m)\u001b[0m\u001b[0;34m\u001b[0m\u001b[0;34m\u001b[0m\u001b[0m\n\u001b[0m",
            "\u001b[0;31mNameError\u001b[0m: name 'train_price' is not defined"
          ]
        }
      ]
    },
    {
      "cell_type": "markdown",
      "metadata": {
        "id": "hBc2wE1ZzhjV",
        "colab_type": "text"
      },
      "source": [
        "Сделаем предсказания для тестового периода:"
      ]
    },
    {
      "cell_type": "markdown",
      "metadata": {
        "id": "Dm7OC8kW2Apt",
        "colab_type": "text"
      },
      "source": [
        "Посчитаем, насколько дней вперед надо сделать предсказания"
      ]
    },
    {
      "cell_type": "code",
      "metadata": {
        "id": "bs9qjDGr2OL3",
        "colab_type": "code",
        "outputId": "856ac911-11c7-49db-94f4-c15ccf40740c",
        "colab": {
          "base_uri": "https://localhost:8080/",
          "height": 204
        }
      },
      "source": [
        "train_price.tail()"
      ],
      "execution_count": 0,
      "outputs": [
        {
          "output_type": "execute_result",
          "data": {
            "text/html": [
              "<div>\n",
              "<style scoped>\n",
              "    .dataframe tbody tr th:only-of-type {\n",
              "        vertical-align: middle;\n",
              "    }\n",
              "\n",
              "    .dataframe tbody tr th {\n",
              "        vertical-align: top;\n",
              "    }\n",
              "\n",
              "    .dataframe thead th {\n",
              "        text-align: right;\n",
              "    }\n",
              "</style>\n",
              "<table border=\"1\" class=\"dataframe\">\n",
              "  <thead>\n",
              "    <tr style=\"text-align: right;\">\n",
              "      <th></th>\n",
              "      <th>ds</th>\n",
              "      <th>y</th>\n",
              "    </tr>\n",
              "  </thead>\n",
              "  <tbody>\n",
              "    <tr>\n",
              "      <th>130</th>\n",
              "      <td>2017-07-02</td>\n",
              "      <td>1.21</td>\n",
              "    </tr>\n",
              "    <tr>\n",
              "      <th>129</th>\n",
              "      <td>2017-07-09</td>\n",
              "      <td>1.17</td>\n",
              "    </tr>\n",
              "    <tr>\n",
              "      <th>128</th>\n",
              "      <td>2017-07-16</td>\n",
              "      <td>1.33</td>\n",
              "    </tr>\n",
              "    <tr>\n",
              "      <th>127</th>\n",
              "      <td>2017-07-23</td>\n",
              "      <td>1.31</td>\n",
              "    </tr>\n",
              "    <tr>\n",
              "      <th>126</th>\n",
              "      <td>2017-07-30</td>\n",
              "      <td>1.32</td>\n",
              "    </tr>\n",
              "  </tbody>\n",
              "</table>\n",
              "</div>"
            ],
            "text/plain": [
              "            ds     y\n",
              "130 2017-07-02  1.21\n",
              "129 2017-07-09  1.17\n",
              "128 2017-07-16  1.33\n",
              "127 2017-07-23  1.31\n",
              "126 2017-07-30  1.32"
            ]
          },
          "metadata": {
            "tags": []
          },
          "execution_count": 205
        }
      ]
    },
    {
      "cell_type": "code",
      "metadata": {
        "id": "07vip04C2FTb",
        "colab_type": "code",
        "outputId": "d83c6553-a2fc-4c8c-d1b3-07bbff28d41d",
        "colab": {
          "base_uri": "https://localhost:8080/",
          "height": 204
        }
      },
      "source": [
        "test_price.tail()"
      ],
      "execution_count": 0,
      "outputs": [
        {
          "output_type": "execute_result",
          "data": {
            "text/html": [
              "<div>\n",
              "<style scoped>\n",
              "    .dataframe tbody tr th:only-of-type {\n",
              "        vertical-align: middle;\n",
              "    }\n",
              "\n",
              "    .dataframe tbody tr th {\n",
              "        vertical-align: top;\n",
              "    }\n",
              "\n",
              "    .dataframe thead th {\n",
              "        text-align: right;\n",
              "    }\n",
              "</style>\n",
              "<table border=\"1\" class=\"dataframe\">\n",
              "  <thead>\n",
              "    <tr style=\"text-align: right;\">\n",
              "      <th></th>\n",
              "      <th>ds</th>\n",
              "      <th>y</th>\n",
              "    </tr>\n",
              "  </thead>\n",
              "  <tbody>\n",
              "    <tr>\n",
              "      <th>161</th>\n",
              "      <td>2018-02-25</td>\n",
              "      <td>1.06</td>\n",
              "    </tr>\n",
              "    <tr>\n",
              "      <th>160</th>\n",
              "      <td>2018-03-04</td>\n",
              "      <td>1.07</td>\n",
              "    </tr>\n",
              "    <tr>\n",
              "      <th>159</th>\n",
              "      <td>2018-03-11</td>\n",
              "      <td>1.09</td>\n",
              "    </tr>\n",
              "    <tr>\n",
              "      <th>158</th>\n",
              "      <td>2018-03-18</td>\n",
              "      <td>1.05</td>\n",
              "    </tr>\n",
              "    <tr>\n",
              "      <th>157</th>\n",
              "      <td>2018-03-25</td>\n",
              "      <td>1.03</td>\n",
              "    </tr>\n",
              "  </tbody>\n",
              "</table>\n",
              "</div>"
            ],
            "text/plain": [
              "            ds     y\n",
              "161 2018-02-25  1.06\n",
              "160 2018-03-04  1.07\n",
              "159 2018-03-11  1.09\n",
              "158 2018-03-18  1.05\n",
              "157 2018-03-25  1.03"
            ]
          },
          "metadata": {
            "tags": []
          },
          "execution_count": 206
        }
      ]
    },
    {
      "cell_type": "markdown",
      "metadata": {
        "id": "7NSWF1ji2Uo8",
        "colab_type": "text"
      },
      "source": [
        "Последний день тренировочных данных - это 30 июля 2017. Последний день тестовых данных - это 25 марта 2018. Нам нужно сделать предсказания на примерно 240 дней вперед."
      ]
    },
    {
      "cell_type": "code",
      "metadata": {
        "id": "mIQZYHM_ziPn",
        "colab_type": "code",
        "colab": {}
      },
      "source": [
        "future = m.make_future_dataframe(periods=240)\n",
        "forecast = m.predict(future)"
      ],
      "execution_count": 0,
      "outputs": []
    },
    {
      "cell_type": "code",
      "metadata": {
        "id": "w4dMT52K17ax",
        "colab_type": "code",
        "outputId": "1a27e708-cb77-4673-83d0-932aa584d3e4",
        "colab": {
          "base_uri": "https://localhost:8080/",
          "height": 309
        }
      },
      "source": [
        "forecast.head()"
      ],
      "execution_count": 0,
      "outputs": [
        {
          "output_type": "execute_result",
          "data": {
            "text/html": [
              "<div>\n",
              "<style scoped>\n",
              "    .dataframe tbody tr th:only-of-type {\n",
              "        vertical-align: middle;\n",
              "    }\n",
              "\n",
              "    .dataframe tbody tr th {\n",
              "        vertical-align: top;\n",
              "    }\n",
              "\n",
              "    .dataframe thead th {\n",
              "        text-align: right;\n",
              "    }\n",
              "</style>\n",
              "<table border=\"1\" class=\"dataframe\">\n",
              "  <thead>\n",
              "    <tr style=\"text-align: right;\">\n",
              "      <th></th>\n",
              "      <th>ds</th>\n",
              "      <th>trend</th>\n",
              "      <th>yhat_lower</th>\n",
              "      <th>yhat_upper</th>\n",
              "      <th>trend_lower</th>\n",
              "      <th>trend_upper</th>\n",
              "      <th>additive_terms</th>\n",
              "      <th>additive_terms_lower</th>\n",
              "      <th>additive_terms_upper</th>\n",
              "      <th>yearly</th>\n",
              "      <th>yearly_lower</th>\n",
              "      <th>yearly_upper</th>\n",
              "      <th>multiplicative_terms</th>\n",
              "      <th>multiplicative_terms_lower</th>\n",
              "      <th>multiplicative_terms_upper</th>\n",
              "      <th>yhat</th>\n",
              "    </tr>\n",
              "  </thead>\n",
              "  <tbody>\n",
              "    <tr>\n",
              "      <th>0</th>\n",
              "      <td>2015-01-04</td>\n",
              "      <td>1.091091</td>\n",
              "      <td>0.899190</td>\n",
              "      <td>1.071263</td>\n",
              "      <td>1.091091</td>\n",
              "      <td>1.091091</td>\n",
              "      <td>-0.111321</td>\n",
              "      <td>-0.111321</td>\n",
              "      <td>-0.111321</td>\n",
              "      <td>-0.111321</td>\n",
              "      <td>-0.111321</td>\n",
              "      <td>-0.111321</td>\n",
              "      <td>0.0</td>\n",
              "      <td>0.0</td>\n",
              "      <td>0.0</td>\n",
              "      <td>0.979770</td>\n",
              "    </tr>\n",
              "    <tr>\n",
              "      <th>1</th>\n",
              "      <td>2015-01-11</td>\n",
              "      <td>1.088003</td>\n",
              "      <td>0.911099</td>\n",
              "      <td>1.086507</td>\n",
              "      <td>1.088003</td>\n",
              "      <td>1.088003</td>\n",
              "      <td>-0.093034</td>\n",
              "      <td>-0.093034</td>\n",
              "      <td>-0.093034</td>\n",
              "      <td>-0.093034</td>\n",
              "      <td>-0.093034</td>\n",
              "      <td>-0.093034</td>\n",
              "      <td>0.0</td>\n",
              "      <td>0.0</td>\n",
              "      <td>0.0</td>\n",
              "      <td>0.994969</td>\n",
              "    </tr>\n",
              "    <tr>\n",
              "      <th>2</th>\n",
              "      <td>2015-01-18</td>\n",
              "      <td>1.084915</td>\n",
              "      <td>0.914144</td>\n",
              "      <td>1.077757</td>\n",
              "      <td>1.084915</td>\n",
              "      <td>1.084915</td>\n",
              "      <td>-0.087826</td>\n",
              "      <td>-0.087826</td>\n",
              "      <td>-0.087826</td>\n",
              "      <td>-0.087826</td>\n",
              "      <td>-0.087826</td>\n",
              "      <td>-0.087826</td>\n",
              "      <td>0.0</td>\n",
              "      <td>0.0</td>\n",
              "      <td>0.0</td>\n",
              "      <td>0.997089</td>\n",
              "    </tr>\n",
              "    <tr>\n",
              "      <th>3</th>\n",
              "      <td>2015-01-25</td>\n",
              "      <td>1.081827</td>\n",
              "      <td>0.884693</td>\n",
              "      <td>1.052431</td>\n",
              "      <td>1.081827</td>\n",
              "      <td>1.081827</td>\n",
              "      <td>-0.112888</td>\n",
              "      <td>-0.112888</td>\n",
              "      <td>-0.112888</td>\n",
              "      <td>-0.112888</td>\n",
              "      <td>-0.112888</td>\n",
              "      <td>-0.112888</td>\n",
              "      <td>0.0</td>\n",
              "      <td>0.0</td>\n",
              "      <td>0.0</td>\n",
              "      <td>0.968939</td>\n",
              "    </tr>\n",
              "    <tr>\n",
              "      <th>4</th>\n",
              "      <td>2015-02-01</td>\n",
              "      <td>1.078739</td>\n",
              "      <td>0.840428</td>\n",
              "      <td>1.007727</td>\n",
              "      <td>1.078739</td>\n",
              "      <td>1.078739</td>\n",
              "      <td>-0.156223</td>\n",
              "      <td>-0.156223</td>\n",
              "      <td>-0.156223</td>\n",
              "      <td>-0.156223</td>\n",
              "      <td>-0.156223</td>\n",
              "      <td>-0.156223</td>\n",
              "      <td>0.0</td>\n",
              "      <td>0.0</td>\n",
              "      <td>0.0</td>\n",
              "      <td>0.922516</td>\n",
              "    </tr>\n",
              "  </tbody>\n",
              "</table>\n",
              "</div>"
            ],
            "text/plain": [
              "          ds     trend  ...  multiplicative_terms_upper      yhat\n",
              "0 2015-01-04  1.091091  ...                         0.0  0.979770\n",
              "1 2015-01-11  1.088003  ...                         0.0  0.994969\n",
              "2 2015-01-18  1.084915  ...                         0.0  0.997089\n",
              "3 2015-01-25  1.081827  ...                         0.0  0.968939\n",
              "4 2015-02-01  1.078739  ...                         0.0  0.922516\n",
              "\n",
              "[5 rows x 16 columns]"
            ]
          },
          "metadata": {
            "tags": []
          },
          "execution_count": 208
        }
      ]
    },
    {
      "cell_type": "code",
      "metadata": {
        "id": "V4tUcDS-3GgG",
        "colab_type": "code",
        "outputId": "f4be5fd3-c9cc-4a71-c078-7ce6266a5f6c",
        "colab": {
          "base_uri": "https://localhost:8080/",
          "height": 441
        }
      },
      "source": [
        "fig1 = m.plot(forecast)"
      ],
      "execution_count": 0,
      "outputs": [
        {
          "output_type": "display_data",
          "data": {
            "image/png": "[encoded data removed]",
            "text/plain": [
              "<Figure size 720x432 with 1 Axes>"
            ]
          },
          "metadata": {
            "tags": []
          }
        }
      ]
    },
    {
      "cell_type": "markdown",
      "metadata": {
        "id": "vdlYOWY33M6A",
        "colab_type": "text"
      },
      "source": [
        "Сравним с тем, что было на самом деле в этот период:"
      ]
    },
    {
      "cell_type": "code",
      "metadata": {
        "id": "4xSKDk1c3QzS",
        "colab_type": "code",
        "outputId": "3f91d950-2682-4601-fa0c-685669008ba6",
        "colab": {
          "base_uri": "https://localhost:8080/",
          "height": 265
        }
      },
      "source": [
        "plt.figure(figsize=(15,4))\n",
        "plt.plot(test_price['ds'], test_price['y'])\n",
        "plt.show()"
      ],
      "execution_count": 0,
      "outputs": [
        {
          "output_type": "display_data",
          "data": {
            "image/png": "[encoded data removed]",
            "text/plain": [
              "<Figure size 1080x288 with 1 Axes>"
            ]
          },
          "metadata": {
            "tags": []
          }
        }
      ]
    },
    {
      "cell_type": "code",
      "metadata": {
        "id": "c03QLqOV5-b5",
        "colab_type": "code",
        "outputId": "1ca33bdf-afa5-48a7-f76d-efd162270af4",
        "colab": {
          "base_uri": "https://localhost:8080/",
          "height": 265
        }
      },
      "source": [
        "plt.figure(figsize=(15,4))\n",
        "forecast_future = forecast.iloc[135:,:]\n",
        "plt.plot(forecast_future['ds'], forecast_future['yhat'])\n",
        "plt.show()"
      ],
      "execution_count": 0,
      "outputs": [
        {
          "output_type": "display_data",
          "data": {
            "image/png": "[encoded data removed]",
            "text/plain": [
              "<Figure size 1080x288 with 1 Axes>"
            ]
          },
          "metadata": {
            "tags": []
          }
        }
      ]
    },
    {
      "cell_type": "code",
      "metadata": {
        "id": "Ehu7VNAg7YRu",
        "colab_type": "code",
        "outputId": "9cbd1e36-5017-43b3-8b56-9c54dfc52ca5",
        "colab": {
          "base_uri": "https://localhost:8080/",
          "height": 265
        }
      },
      "source": [
        "plt.figure(figsize=(15,4))\n",
        "forecast_future = forecast.iloc[135:,:]\n",
        "plt.plot(forecast_future['ds'], forecast_future['yhat'])\n",
        "plt.plot(test_price['ds'], test_price['y'])\n",
        "plt.show()"
      ],
      "execution_count": 0,
      "outputs": [
        {
          "output_type": "display_data",
          "data": {
            "image/png": "[encoded data removed]",
            "text/plain": [
              "<Figure size 1080x288 with 1 Axes>"
            ]
          },
          "metadata": {
            "tags": []
          }
        }
      ]
    },
    {
      "cell_type": "markdown",
      "metadata": {
        "id": "2HJtlKdA7gco",
        "colab_type": "text"
      },
      "source": [
        "Модель не совсем точна, но есть некая корреляция между данными."
      ]
    },
    {
      "cell_type": "markdown",
      "metadata": {
        "id": "bsHGWleP7nMG",
        "colab_type": "text"
      },
      "source": [
        "Можно посчитать среднюю ошибку модели. "
      ]
    }
  ]
}