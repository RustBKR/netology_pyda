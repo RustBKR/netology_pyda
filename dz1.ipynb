{
 "cells": [
  {
   "cell_type": "code",
   "execution_count": null,
   "metadata": {},
   "outputs": [],
   "source": [
    "number = int(input(\"Введите количество игроков: \"))\n",
    "success_answer = 0\n",
    "amaunt = 0\n",
    "new_cicle = 0\n",
    "while number > 0:\n",
    "    amaunt += 1\n",
    "    result_1 = amaunt % 3\n",
    "    result_2 = amaunt % 5\n",
    "    if result_1 == 0 and result_2 == 0:\n",
    "        right_answer = \"Fizz Buzz\"\n",
    "    elif result_1 == 0:\n",
    "        right_answer = \"Fizz\"\n",
    "    elif result_2 == 0:\n",
    "        right_answer = \"Buzz\"\n",
    "    else:\n",
    "        new_cicle = 1\n",
    "    if new_cicle == 0:\n",
    "        print(\"Текущее число: \", amaunt)\n",
    "        player_answer = input(\"Введите ответ: \")\n",
    "        if right_answer == player_answer:\n",
    "            success_answer += 1\n",
    "            print(\"Ответ верный\")\n",
    "        else:\n",
    "            number -= 1\n",
    "            print(\"Ответ неверный. Вы выбываете из игры.\")\n",
    "    else:\n",
    "        new_cicle = 0\n",
    "print(\"Игра окончена. Количество успешных ответов: \", success_answer)"
   ]
  },
  {
   "cell_type": "code",
   "execution_count": null,
   "metadata": {},
   "outputs": [],
   "source": []
  }
 ],
 "metadata": {
  "kernelspec": {
   "display_name": "Python 3",
   "language": "python",
   "name": "python3"
  },
  "language_info": {
   "codemirror_mode": {
    "name": "ipython",
    "version": 3
   },
   "file_extension": ".py",
   "mimetype": "text/x-python",
   "name": "python",
   "nbconvert_exporter": "python",
   "pygments_lexer": "ipython3",
   "version": "3.7.3"
  }
 },
 "nbformat": 4,
 "nbformat_minor": 2
}
